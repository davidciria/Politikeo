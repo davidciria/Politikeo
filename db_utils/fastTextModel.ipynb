{
 "cells": [
  {
   "cell_type": "code",
   "execution_count": 93,
   "metadata": {},
   "outputs": [
    {
     "output_type": "execute_result",
     "data": {
      "text/plain": [
       "'\\nThe training file should be this format:\\n\\n__label__pp this is my text\\n__label__psoe this is also my text\\n'"
      ]
     },
     "metadata": {},
     "execution_count": 93
    }
   ],
   "source": [
    "import fasttext\n",
    "\n",
    "\"\"\"\n",
    "The training file should be this format:\n",
    "\n",
    "__label__pp this is my text\n",
    "__label__psoe this is also my text\n",
    "\"\"\""
   ]
  },
  {
   "cell_type": "code",
   "execution_count": 195,
   "metadata": {},
   "outputs": [
    {
     "output_type": "stream",
     "name": "stdout",
     "text": [
      "1\n",
      "4950\n",
      "4950\n",
      "4950\n",
      "4950\n"
     ]
    }
   ],
   "source": [
    "import pandas as pd\n",
    "import numpy as np\n",
    "import re\n",
    "import emoji\n",
    "\n",
    "#Function to get all emojis in a text.\n",
    "def split_emojis(text):\n",
    "\n",
    "    emoji_list = []\n",
    "    data = re.findall(r'\\X', text)\n",
    "    for word in data:\n",
    "        if any(char in emoji.UNICODE_EMOJI for char in word):\n",
    "            emoji_list.append(word)\n",
    "\n",
    "    return emoji_list\n",
    "\n",
    "#Function to clean the text of a tweet.\n",
    "def clean_tweet(text):\n",
    "    text = re.sub(r\"http\\S+\", \"\", text)\n",
    "    text = re.sub(r\"\\n\", \" \", text)\n",
    "    #clean_text = re.sub(\"@.*:\", \"\", text) #This do not improve performance.\n",
    "    #clean_text = re.sub(\"@.* \", \"\", clean_text)\n",
    "    #clean_text = re.sub(\"RT\", \"\", clean_text)\n",
    "    #clean_text = re.sub(\"\\n\", \" \", clean_text)\n",
    "    #clean_text = re.sub(\"//.\", \"\", clean_text)\n",
    "    #clean_text = re.sub(\" +\", \" \", clean_text)\n",
    "    #Separate emojis from words.\n",
    "    \"\"\"\n",
    "    sep_emojis_text = \"\"\n",
    "    for c in clean_text:\n",
    "        if c in emoji.UNICODE_EMOJI:\n",
    "            sep_emojis_text+=' '+c+' '\n",
    "        else:\n",
    "            sep_emojis_text+=c\n",
    "     #This do not improve performance.\n",
    "    \"\"\"\n",
    "    return text\n",
    "\n",
    "#Read and clean data for each party.\n",
    "\n",
    "#Podemos.\n",
    "up_cleaned_data = pd.DataFrame()\n",
    "up_df = pd.read_csv ('up.csv').head(4950)\n",
    "up_cleaned_data[\"tweet\"] = up_df[\"text\"].apply(clean_tweet)\n",
    "up_cleaned_data[\"label\"] = \"__label__up\"\n",
    "print(len(up_df))\n",
    "#Psoe.\n",
    "psoe_cleaned_data = pd.DataFrame()\n",
    "psoe_df = pd.read_csv ('psoe.csv').head(4950)\n",
    "psoe_cleaned_data[\"tweet\"] = psoe_df[\"text\"].apply(clean_tweet)\n",
    "psoe_cleaned_data[\"label\"] = \"__label__psoe\"\n",
    "print(len(psoe_df))\n",
    "#CS.\n",
    "cs_cleaned_data = pd.DataFrame()\n",
    "cs_df = pd.read_csv ('cs.csv').head(4950)\n",
    "cs_cleaned_data[\"tweet\"] = cs_df[\"text\"].apply(clean_tweet)\n",
    "cs_cleaned_data[\"label\"] = \"__label__cs\"\n",
    "print(len(cs_df))\n",
    "#PP.\n",
    "pp_cleaned_data = pd.DataFrame()\n",
    "pp_df = pd.read_csv ('pp.csv').head(4950)\n",
    "pp_cleaned_data[\"tweet\"] = pp_df[\"text\"].apply(clean_tweet)\n",
    "pp_cleaned_data[\"label\"] = \"__label__pp\"\n",
    "print(len(pp_df))\n",
    "#Vox.\n",
    "vox_cleaned_data = pd.DataFrame()\n",
    "vox_df = pd.read_csv ('vox.csv').head(4950)\n",
    "vox_cleaned_data[\"tweet\"] = vox_df[\"text\"].apply(clean_tweet)\n",
    "vox_cleaned_data[\"label\"] = \"__label__vox\"\n",
    "print(len(vox_df))\n",
    "\n",
    "#Concat all parties data.\n",
    "data = pd.concat([up_cleaned_data, psoe_cleaned_data, cs_cleaned_data, pp_cleaned_data, vox_cleaned_data])"
   ]
  },
  {
   "cell_type": "code",
   "execution_count": 202,
   "metadata": {},
   "outputs": [
    {
     "output_type": "execute_result",
     "data": {
      "text/plain": [
       "'RT @JesusCintora: \"Sanitarios de la primaria de Madrid llevan a la justicia la gestión de Ayuso. Cerca de 300 profesionales del colectivo A…'"
      ]
     },
     "metadata": {},
     "execution_count": 202
    }
   ],
   "source": [
    "up_df[\"text\"][0]"
   ]
  },
  {
   "cell_type": "code",
   "execution_count": 203,
   "metadata": {},
   "outputs": [
    {
     "output_type": "display_data",
     "data": {
      "text/plain": "                                                  tweet          label\n2970  RT @francarrillog: Eligen a los extremos porqu...    __label__cs\n275   RT @DipuSG: 🔹¿Eres un alojamiento de la provin...    __label__cs\n2264   @FernandoArambur Felicidades por el gran trabajo    __label__pp\n244   Es la esperanza de poner coto a un gobierno di...   __label__vox\n4323     RT @hugomanchon: La vergüenza hecha Gobierno.     __label__pp\n...                                                 ...            ...\n1383  RT @JorgeBustos1: Veo que a Fernández Vara, qu...    __label__pp\n2063  RT @anacamins: Frente a los partidos que justi...    __label__pp\n439   RT @CsValladolid: Aprobada la modificación de ...    __label__cs\n859   RT @PSOE: Invertir en #TransiciónEcológica y R...  __label__psoe\n944     RT @GirautaOficial: ¿Para esto lo han enviado?    __label__vox\n\n[16830 rows x 2 columns]",
      "text/html": "<div>\n<style scoped>\n    .dataframe tbody tr th:only-of-type {\n        vertical-align: middle;\n    }\n\n    .dataframe tbody tr th {\n        vertical-align: top;\n    }\n\n    .dataframe thead th {\n        text-align: right;\n    }\n</style>\n<table border=\"1\" class=\"dataframe\">\n  <thead>\n    <tr style=\"text-align: right;\">\n      <th></th>\n      <th>tweet</th>\n      <th>label</th>\n    </tr>\n  </thead>\n  <tbody>\n    <tr>\n      <th>2970</th>\n      <td>RT @francarrillog: Eligen a los extremos porqu...</td>\n      <td>__label__cs</td>\n    </tr>\n    <tr>\n      <th>275</th>\n      <td>RT @DipuSG: 🔹¿Eres un alojamiento de la provin...</td>\n      <td>__label__cs</td>\n    </tr>\n    <tr>\n      <th>2264</th>\n      <td>@FernandoArambur Felicidades por el gran trabajo</td>\n      <td>__label__pp</td>\n    </tr>\n    <tr>\n      <th>244</th>\n      <td>Es la esperanza de poner coto a un gobierno di...</td>\n      <td>__label__vox</td>\n    </tr>\n    <tr>\n      <th>4323</th>\n      <td>RT @hugomanchon: La vergüenza hecha Gobierno.</td>\n      <td>__label__pp</td>\n    </tr>\n    <tr>\n      <th>...</th>\n      <td>...</td>\n      <td>...</td>\n    </tr>\n    <tr>\n      <th>1383</th>\n      <td>RT @JorgeBustos1: Veo que a Fernández Vara, qu...</td>\n      <td>__label__pp</td>\n    </tr>\n    <tr>\n      <th>2063</th>\n      <td>RT @anacamins: Frente a los partidos que justi...</td>\n      <td>__label__pp</td>\n    </tr>\n    <tr>\n      <th>439</th>\n      <td>RT @CsValladolid: Aprobada la modificación de ...</td>\n      <td>__label__cs</td>\n    </tr>\n    <tr>\n      <th>859</th>\n      <td>RT @PSOE: Invertir en #TransiciónEcológica y R...</td>\n      <td>__label__psoe</td>\n    </tr>\n    <tr>\n      <th>944</th>\n      <td>RT @GirautaOficial: ¿Para esto lo han enviado?</td>\n      <td>__label__vox</td>\n    </tr>\n  </tbody>\n</table>\n<p>16830 rows × 2 columns</p>\n</div>"
     },
     "metadata": {}
    },
    {
     "output_type": "display_data",
     "data": {
      "text/plain": "                                                  tweet          label\n4178  RT @jmespejosaav: Es lamentable que Sánchez ha...    __label__cs\n2511  @carlosdavidgf Pues hasta que no gobierne el P...    __label__pp\n4692  RT @berto_hu: @mikihoyos Ley Wert también fue ...  __label__psoe\n3101  RT @pablocast13: ¿Ha dimitido ya Simancas por ...    __label__pp\n4402  RT @JMdezOficial: Que va! Como parodia es muy ...    __label__pp\n...                                                 ...            ...\n1376  RT @PhilAMellows: La estrategia del Gobierno e...    __label__pp\n2506  RT @SaraGimnez: El fracaso escolar condena a m...    __label__cs\n2976  RT @RomeoMo75922153: No lo defiendo, ni mucho ...   __label__vox\n45    @felixrubiogama1 @sanchezcastejon @PSOE No le ...    __label__pp\n1865                      5 de Noviembre. Día de Madre     __label__pp\n\n[2971 rows x 2 columns]",
      "text/html": "<div>\n<style scoped>\n    .dataframe tbody tr th:only-of-type {\n        vertical-align: middle;\n    }\n\n    .dataframe tbody tr th {\n        vertical-align: top;\n    }\n\n    .dataframe thead th {\n        text-align: right;\n    }\n</style>\n<table border=\"1\" class=\"dataframe\">\n  <thead>\n    <tr style=\"text-align: right;\">\n      <th></th>\n      <th>tweet</th>\n      <th>label</th>\n    </tr>\n  </thead>\n  <tbody>\n    <tr>\n      <th>4178</th>\n      <td>RT @jmespejosaav: Es lamentable que Sánchez ha...</td>\n      <td>__label__cs</td>\n    </tr>\n    <tr>\n      <th>2511</th>\n      <td>@carlosdavidgf Pues hasta que no gobierne el P...</td>\n      <td>__label__pp</td>\n    </tr>\n    <tr>\n      <th>4692</th>\n      <td>RT @berto_hu: @mikihoyos Ley Wert también fue ...</td>\n      <td>__label__psoe</td>\n    </tr>\n    <tr>\n      <th>3101</th>\n      <td>RT @pablocast13: ¿Ha dimitido ya Simancas por ...</td>\n      <td>__label__pp</td>\n    </tr>\n    <tr>\n      <th>4402</th>\n      <td>RT @JMdezOficial: Que va! Como parodia es muy ...</td>\n      <td>__label__pp</td>\n    </tr>\n    <tr>\n      <th>...</th>\n      <td>...</td>\n      <td>...</td>\n    </tr>\n    <tr>\n      <th>1376</th>\n      <td>RT @PhilAMellows: La estrategia del Gobierno e...</td>\n      <td>__label__pp</td>\n    </tr>\n    <tr>\n      <th>2506</th>\n      <td>RT @SaraGimnez: El fracaso escolar condena a m...</td>\n      <td>__label__cs</td>\n    </tr>\n    <tr>\n      <th>2976</th>\n      <td>RT @RomeoMo75922153: No lo defiendo, ni mucho ...</td>\n      <td>__label__vox</td>\n    </tr>\n    <tr>\n      <th>45</th>\n      <td>@felixrubiogama1 @sanchezcastejon @PSOE No le ...</td>\n      <td>__label__pp</td>\n    </tr>\n    <tr>\n      <th>1865</th>\n      <td>5 de Noviembre. Día de Madre</td>\n      <td>__label__pp</td>\n    </tr>\n  </tbody>\n</table>\n<p>2971 rows × 2 columns</p>\n</div>"
     },
     "metadata": {}
    }
   ],
   "source": [
    "#Split data in training and test sets.\n",
    "import csv\n",
    "from sklearn.model_selection import train_test_split\n",
    "\n",
    "X_train, X_test, y_train, y_test = train_test_split(data[\"tweet\"], data[\"label\"], test_size=0.15, random_state=42)\n",
    "\n",
    "training = pd.concat([X_train,y_train], axis=1)\n",
    "display(training)\n",
    "\n",
    "test = pd.concat([X_test,y_test], axis=1)\n",
    "display(test)\n",
    "\n",
    "#Create training file.\n",
    "training[training.columns.values[::-1]].to_csv('data.train', index=False, sep=' ', header=False, quoting=csv.QUOTE_NONE, quotechar=\"\", escapechar=\" \")\n",
    "#data.to_csv('data.train', index=False, sep=' ', header=False, quoting=csv.QUOTE_NONE, quotechar=\"\", escapechar=\" \")\n",
    "\n",
    "#Create test file.\n",
    "test[test.columns.values[::-1]].to_csv('data.test', index=False, sep=' ', header=False, quoting=csv.QUOTE_NONE, quotechar=\"\", escapechar=\" \")"
   ]
  },
  {
   "cell_type": "code",
   "execution_count": 204,
   "metadata": {},
   "outputs": [],
   "source": [
    "import fasttext\n",
    "# Load input training set.\n",
    "\n",
    "#By default, fastText sees each training example only five times during training, which is pretty small. The number of times each examples is seen (also known as the number of epochs), can be increased using the -epoch option\n",
    "model = fasttext.train_supervised(input=\"data.train\", epoch=30)"
   ]
  },
  {
   "cell_type": "code",
   "execution_count": 205,
   "metadata": {},
   "outputs": [
    {
     "output_type": "stream",
     "name": "stdout",
     "text": [
      "(('__label__vox',), array([0.99950969]))\n(('__label__pp',), array([0.99739093]))\n(('__label__vox',), array([0.94602305]))\n(('__label__pp',), array([0.65809429]))\n(('__label__vox',), array([0.74217999]))\n(('__label__vox',), array([0.65079474]))\n(('__label__vox',), array([1.00001001]))\n(('__label__pp',), array([0.67228228]))\n(('__label__pp',), array([0.95372534]))\n(('__label__cs',), array([0.99999094]))\n(('__label__cs',), array([0.49952245]))\n(('__label__pp',), array([0.99870235]))\n"
     ]
    }
   ],
   "source": [
    "#To predict one instance.\n",
    "print( model.predict(\"Franco deberia volver a vivir\") )\n",
    "print( model.predict(\"Los españoles son los mejores 💙\") )\n",
    "print( model.predict(\"Los españoles son los mejores 💚\") )\n",
    "print( model.predict(\"España es una gran nacion\") )\n",
    "print( model.predict(\"Pablo Iglesias es el mejor\") )\n",
    "print( model.predict(\"Pablo Iglesias es un mierdas\") )\n",
    "print( model.predict(\"Putos progres de mierda\") )\n",
    "print( model.predict(\"Viva la guardia civil\") )\n",
    "print( model.predict(\"Igualdad salarial para las mujeres!\") )\n",
    "print( model.predict(\"La españa moderada\") )\n",
    "print( model.predict(\"La mujer a trabajar\") )\n",
    "print( model.predict(\"Viva la fuerza naranja\") )"
   ]
  },
  {
   "cell_type": "code",
   "execution_count": 206,
   "metadata": {},
   "outputs": [
    {
     "output_type": "stream",
     "name": "stdout",
     "text": [
      "Precision: 0.7353535353535353\nRecall: 0.7353535353535353\nFscore: 0.7353535353535352\n"
     ]
    }
   ],
   "source": [
    "#To test the test set. (number of samples, precision, recall)\n",
    "model.test(\"data.test\")\n",
    "\n",
    "precision = model.test(\"data.test\")[1]\n",
    "recall = model.test(\"data.test\")[2]\n",
    "\n",
    "F_score = 2*(precision * recall)/(precision + recall)\n",
    "\n",
    "print(\"Precision:\", precision)\n",
    "print(\"Recall:\", recall)\n",
    "print(\"Fscore:\", F_score)"
   ]
  },
  {
   "cell_type": "code",
   "execution_count": 207,
   "metadata": {},
   "outputs": [],
   "source": [
    "model.save_model(\"fastTextModel.model\")"
   ]
  }
 ],
 "metadata": {
  "kernelspec": {
   "display_name": "Python 3",
   "language": "python",
   "name": "python3"
  },
  "language_info": {
   "codemirror_mode": {
    "name": "ipython",
    "version": 3
   },
   "file_extension": ".py",
   "mimetype": "text/x-python",
   "name": "python",
   "nbconvert_exporter": "python",
   "pygments_lexer": "ipython3",
   "version": "3.8.3-final"
  }
 },
 "nbformat": 4,
 "nbformat_minor": 2
}