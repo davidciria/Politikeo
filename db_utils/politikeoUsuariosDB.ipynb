{
 "cells": [
  {
   "cell_type": "code",
   "execution_count": 1,
   "metadata": {},
   "outputs": [],
   "source": [
    "import tweepy\n",
    "import mysql.connector\n",
    "from datetime import datetime, timedelta, timezone\n",
    "from tweepy import Stream\n",
    "from tweepy import OAuthHandler\n",
    "from tweepy.streaming import StreamListener\n",
    "from mysql.connector import errorcode\n",
    "import time\n",
    "import json\n",
    "# Authenticate to Twitter\n",
    "consumer_key = 'STLaRWoiHIno3A4yJaWaofEON'\n",
    "consumer_secret = '4xVfaq0AaknSk4pY1d4WvhgOl3CtaZqfdrAO1X9cPQxyOAhw1K'\n",
    "\n",
    "access_token = '1328431351259869184-qqcz9xh5OfZoVUa6o9Bk3i8XCOp17Z'\n",
    "access_secret = '6fEoU48LOnl7UsSPjqOuOI0CS3hDI2e2xZfQCmxDm2UAb'\n",
    "\n",
    "tweetsPerQry = 10\n",
    "maxTweets = 10\n",
    "\n",
    "mydb = mysql.connector.connect(\n",
    "  host=\"localhost\",\n",
    "  user=\"root\",\n",
    "  password=\"{root}\",\n",
    "  database=\"ts1\",\n",
    "  auth_plugin='mysql_native_password'\n",
    ")\n",
    "\n",
    "mycursor = mydb.cursor()\n",
    "\n",
    "authentication = tweepy.OAuthHandler(consumer_key, consumer_secret)\n",
    "authentication.set_access_token(access_token, access_secret)\n",
    "api = tweepy.API(authentication, wait_on_rate_limit=True, wait_on_rate_limit_notify=True)\n",
    "maxId = -1\n",
    "tweetCount = 0\n",
    "ids = []\n",
    "#aqui van los usuarios\n",
    "users = [\"PolitikeoV\"]\n",
    "\n",
    "sql = \"INSERT INTO pp (tweet_id,text,user_name, user_screen_name,user_description,user_id,retweeted,lang) VALUES (%s, %s, %s,%s, %s, %s, %s, %s)\"\n",
    "\n",
    "for user in users:\n",
    "    u = api.user_timeline(screen_name = user, count = 100, include_rts = True,tweet_mode='extended')\n",
    "    val = []\n",
    "    for info in u:\n",
    "        val.append((info.id,info.full_text,info.user.name,info.user.screen_name,info.user.description,info.user.id,info.is_quote_status,info.lang))\n",
    "\n",
    "    mycursor.executemany(sql, val)\n",
    "\n",
    "    mydb.commit()\n",
    "\n",
    "    \n",
    "   "
   ]
  },
  {
   "cell_type": "code",
   "execution_count": null,
   "metadata": {},
   "outputs": [],
   "source": []
  },
  {
   "cell_type": "code",
   "execution_count": null,
   "metadata": {},
   "outputs": [],
   "source": []
  }
 ],
 "metadata": {
  "kernelspec": {
   "display_name": "Python 3",
   "language": "python",
   "name": "python3"
  },
  "language_info": {
   "codemirror_mode": {
    "name": "ipython",
    "version": 3
   },
   "file_extension": ".py",
   "mimetype": "text/x-python",
   "name": "python",
   "nbconvert_exporter": "python",
   "pygments_lexer": "ipython3",
   "version": "3.8.3"
  }
 },
 "nbformat": 4,
 "nbformat_minor": 2
}
