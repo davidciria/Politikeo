{
 "cells": [
  {
   "cell_type": "code",
   "execution_count": 217,
   "metadata": {},
   "outputs": [
    {
     "output_type": "execute_result",
     "data": {
      "text/plain": [
       "'\\nThe training file should be this format:\\n\\n__label__pp this is my text\\n__label__psoe this is also my text\\n'"
      ]
     },
     "metadata": {},
     "execution_count": 217
    }
   ],
   "source": [
    "import fasttext\n",
    "\n",
    "\"\"\"\n",
    "The training file should be this format:\n",
    "\n",
    "__label__pp this is my text\n",
    "__label__psoe this is also my text\n",
    "\"\"\""
   ]
  },
  {
   "cell_type": "code",
   "execution_count": 218,
   "metadata": {},
   "outputs": [
    {
     "output_type": "stream",
     "name": "stdout",
     "text": [
      "4745\n",
      "4950\n",
      "4950\n",
      "4896\n",
      "4877\n"
     ]
    }
   ],
   "source": [
    "import pandas as pd\n",
    "import numpy as np\n",
    "import re\n",
    "import emoji\n",
    "\n",
    "#Function to get all emojis in a text.\n",
    "def split_emojis(text):\n",
    "\n",
    "    emoji_list = []\n",
    "    data = re.findall(r'\\X', text)\n",
    "    for word in data:\n",
    "        if any(char in emoji.UNICODE_EMOJI for char in word):\n",
    "            emoji_list.append(word)\n",
    "\n",
    "    return emoji_list\n",
    "\n",
    "#Function to clean the text of a tweet.\n",
    "def clean_tweet(text):\n",
    "    text = re.sub(r\"http\\S+\", \"\", text)\n",
    "    text = re.sub(r\"/\", \"\", text)\n",
    "    text = re.sub(r\"RT\", \"\", text)\n",
    "    text = re.sub(\"\\n+\", ' ', text)\n",
    "    text = re.sub(\"\\r+\", ' ', text)\n",
    "    #text = re.sub(r\"@.*\", \"\", text) #This do not improve performance.\n",
    "    #clean_text = re.sub(\"RT\", \"\", clean_text)\n",
    "    #clean_text = re.sub(\"\\n\", \" \", clean_text)\n",
    "    #clean_text = re.sub(\"/\", \"\", clean_text)\n",
    "    #clean_text = re.sub(\" +\", \" \", clean_text)\n",
    "    #Separate emojis from words.\n",
    "    \"\"\"\n",
    "    sep_emojis_text = \"\"\n",
    "    for c in clean_text:\n",
    "        if c in emoji.UNICODE_EMOJI:\n",
    "            sep_emojis_text+=' '+c+' '\n",
    "        else:\n",
    "            sep_emojis_text+=c\n",
    "     #This do not improve performance.\n",
    "    \"\"\"\n",
    "    return text\n",
    "\n",
    "#Read and clean data for each party.\n",
    "\n",
    "#Podemos.\n",
    "up_cleaned_data = pd.DataFrame()\n",
    "up_df = pd.read_csv ('up.csv').head(4950)\n",
    "up_cleaned_data[\"tweet\"] = up_df[\"text\"].apply(clean_tweet)\n",
    "up_cleaned_data[\"label\"] = \"__label__up\"\n",
    "print(len(up_df))\n",
    "#Psoe.\n",
    "psoe_cleaned_data = pd.DataFrame()\n",
    "psoe_df = pd.read_csv ('psoe.csv').head(4950)\n",
    "psoe_cleaned_data[\"tweet\"] = psoe_df[\"text\"].apply(clean_tweet)\n",
    "psoe_cleaned_data[\"label\"] = \"__label__psoe\"\n",
    "print(len(psoe_df))\n",
    "#CS.\n",
    "cs_cleaned_data = pd.DataFrame()\n",
    "cs_df = pd.read_csv ('cs.csv').head(4950)\n",
    "cs_cleaned_data[\"tweet\"] = cs_df[\"text\"].apply(clean_tweet)\n",
    "cs_cleaned_data[\"label\"] = \"__label__cs\"\n",
    "print(len(cs_df))\n",
    "#PP.\n",
    "pp_cleaned_data = pd.DataFrame()\n",
    "pp_df = pd.read_csv ('pp.csv').head(4950)\n",
    "pp_cleaned_data[\"tweet\"] = pp_df[\"text\"].apply(clean_tweet)\n",
    "pp_cleaned_data[\"label\"] = \"__label__pp\"\n",
    "print(len(pp_df))\n",
    "#Vox.\n",
    "vox_cleaned_data = pd.DataFrame()\n",
    "vox_df = pd.read_csv ('vox.csv').head(4950)\n",
    "vox_cleaned_data[\"tweet\"] = vox_df[\"text\"].apply(clean_tweet)\n",
    "vox_cleaned_data[\"label\"] = \"__label__vox\"\n",
    "print(len(vox_df))\n",
    "\n",
    "#Concat all parties data.\n",
    "data = pd.concat([up_cleaned_data, psoe_cleaned_data, cs_cleaned_data, pp_cleaned_data, vox_cleaned_data])"
   ]
  },
  {
   "cell_type": "code",
   "execution_count": 219,
   "metadata": {
    "tags": []
   },
   "outputs": [
    {
     "output_type": "display_data",
     "data": {
      "text/plain": "                                                  tweet          label\n1908  @BorinagaP @manuraortiz @TeoGarciaEgea Pues cr...  __label__psoe\n4843  El pacto de Sánchez con ERC y Bildu y el recha...    __label__cs\n403   Habla @carmencalvo_ del presupuesto de Memoria...  __label__psoe\n1133  @luqasnet @cfcuartero01 @WharfRat_DE Y tan Ile...   __label__vox\n1762  A vuestros hijos podréis contarles que, mientr...    __label__pp\n...                                                 ...            ...\n2034  @VOX_Congreso @Ortega_Smith ⛔Última hora Alert...   __label__vox\n645   Ojala celebremos juntas la recuperación del #M...  __label__psoe\n860                          @CAILolocai Felicidades!!!    __label__up\n1150  @Bicho1968bicho @populares @pablocasado_ El in...    __label__pp\n4113  Transparencia ordena a sanidad revelar los nom...   __label__vox\n\n[20755 rows x 2 columns]",
      "text/html": "<div>\n<style scoped>\n    .dataframe tbody tr th:only-of-type {\n        vertical-align: middle;\n    }\n\n    .dataframe tbody tr th {\n        vertical-align: top;\n    }\n\n    .dataframe thead th {\n        text-align: right;\n    }\n</style>\n<table border=\"1\" class=\"dataframe\">\n  <thead>\n    <tr style=\"text-align: right;\">\n      <th></th>\n      <th>tweet</th>\n      <th>label</th>\n    </tr>\n  </thead>\n  <tbody>\n    <tr>\n      <th>1908</th>\n      <td>@BorinagaP @manuraortiz @TeoGarciaEgea Pues cr...</td>\n      <td>__label__psoe</td>\n    </tr>\n    <tr>\n      <th>4843</th>\n      <td>El pacto de Sánchez con ERC y Bildu y el recha...</td>\n      <td>__label__cs</td>\n    </tr>\n    <tr>\n      <th>403</th>\n      <td>Habla @carmencalvo_ del presupuesto de Memoria...</td>\n      <td>__label__psoe</td>\n    </tr>\n    <tr>\n      <th>1133</th>\n      <td>@luqasnet @cfcuartero01 @WharfRat_DE Y tan Ile...</td>\n      <td>__label__vox</td>\n    </tr>\n    <tr>\n      <th>1762</th>\n      <td>A vuestros hijos podréis contarles que, mientr...</td>\n      <td>__label__pp</td>\n    </tr>\n    <tr>\n      <th>...</th>\n      <td>...</td>\n      <td>...</td>\n    </tr>\n    <tr>\n      <th>2034</th>\n      <td>@VOX_Congreso @Ortega_Smith ⛔Última hora Alert...</td>\n      <td>__label__vox</td>\n    </tr>\n    <tr>\n      <th>645</th>\n      <td>Ojala celebremos juntas la recuperación del #M...</td>\n      <td>__label__psoe</td>\n    </tr>\n    <tr>\n      <th>860</th>\n      <td>@CAILolocai Felicidades!!!</td>\n      <td>__label__up</td>\n    </tr>\n    <tr>\n      <th>1150</th>\n      <td>@Bicho1968bicho @populares @pablocasado_ El in...</td>\n      <td>__label__pp</td>\n    </tr>\n    <tr>\n      <th>4113</th>\n      <td>Transparencia ordena a sanidad revelar los nom...</td>\n      <td>__label__vox</td>\n    </tr>\n  </tbody>\n</table>\n<p>20755 rows × 2 columns</p>\n</div>"
     },
     "metadata": {}
    },
    {
     "output_type": "display_data",
     "data": {
      "text/plain": "                                                  tweet         label\n2509  “Si quieres ir rápido camina solo, si quieres ...   __label__cs\n1510  @AntonioMaestre Debe ser una buena noticia par...   __label__up\n1705  Unos ya comen migajas del Socialcomunismo y a ...  __label__vox\n2403  🤐 Así se queda el gobierno socialcomunista cua...   __label__pp\n3867  Sabías que miles de personas con PCR positiva,...  __label__vox\n...                                                 ...           ...\n2295  Until when will the EU allow the invasion of t...  __label__vox\n2527                                   @Garcia55982118   __label__vox\n1427         @alvarezustarroz Es que es más cómodo... 😜   __label__pp\n3922                                  @dsegoviaatienza    __label__up\n4460  Las denuncias en contra de Dominion Voting Sys...  __label__vox\n\n[3663 rows x 2 columns]",
      "text/html": "<div>\n<style scoped>\n    .dataframe tbody tr th:only-of-type {\n        vertical-align: middle;\n    }\n\n    .dataframe tbody tr th {\n        vertical-align: top;\n    }\n\n    .dataframe thead th {\n        text-align: right;\n    }\n</style>\n<table border=\"1\" class=\"dataframe\">\n  <thead>\n    <tr style=\"text-align: right;\">\n      <th></th>\n      <th>tweet</th>\n      <th>label</th>\n    </tr>\n  </thead>\n  <tbody>\n    <tr>\n      <th>2509</th>\n      <td>“Si quieres ir rápido camina solo, si quieres ...</td>\n      <td>__label__cs</td>\n    </tr>\n    <tr>\n      <th>1510</th>\n      <td>@AntonioMaestre Debe ser una buena noticia par...</td>\n      <td>__label__up</td>\n    </tr>\n    <tr>\n      <th>1705</th>\n      <td>Unos ya comen migajas del Socialcomunismo y a ...</td>\n      <td>__label__vox</td>\n    </tr>\n    <tr>\n      <th>2403</th>\n      <td>🤐 Así se queda el gobierno socialcomunista cua...</td>\n      <td>__label__pp</td>\n    </tr>\n    <tr>\n      <th>3867</th>\n      <td>Sabías que miles de personas con PCR positiva,...</td>\n      <td>__label__vox</td>\n    </tr>\n    <tr>\n      <th>...</th>\n      <td>...</td>\n      <td>...</td>\n    </tr>\n    <tr>\n      <th>2295</th>\n      <td>Until when will the EU allow the invasion of t...</td>\n      <td>__label__vox</td>\n    </tr>\n    <tr>\n      <th>2527</th>\n      <td>@Garcia55982118</td>\n      <td>__label__vox</td>\n    </tr>\n    <tr>\n      <th>1427</th>\n      <td>@alvarezustarroz Es que es más cómodo... 😜</td>\n      <td>__label__pp</td>\n    </tr>\n    <tr>\n      <th>3922</th>\n      <td>@dsegoviaatienza</td>\n      <td>__label__up</td>\n    </tr>\n    <tr>\n      <th>4460</th>\n      <td>Las denuncias en contra de Dominion Voting Sys...</td>\n      <td>__label__vox</td>\n    </tr>\n  </tbody>\n</table>\n<p>3663 rows × 2 columns</p>\n</div>"
     },
     "metadata": {}
    }
   ],
   "source": [
    "#Split data in training and test sets.\n",
    "import os\n",
    "from sklearn.model_selection import train_test_split\n",
    "\n",
    "X_train, X_test, y_train, y_test = train_test_split(data[\"tweet\"], data[\"label\"], test_size=0.15, random_state=42)\n",
    "\n",
    "training = pd.concat([X_train,y_train], axis=1)\n",
    "display(training)\n",
    "\n",
    "test = pd.concat([X_test,y_test], axis=1)\n",
    "display(test)\n",
    "\n",
    "#Create training file.\n",
    "training_file = open(\"data.train\", \"w\", encoding=\"utf-8\")\n",
    "for i,r in training.iterrows():\n",
    "    training_file.write(r[\"label\"] + \" \" + r[\"tweet\"] + \"\\n\")\n",
    "\n",
    "#Create test file.\n",
    "test_file = open(\"data.test\", \"w\", encoding=\"utf-8\")\n",
    "for i,r in test.iterrows():\n",
    "    test_file.write(r[\"label\"] + \" \" + r[\"tweet\"] + \"\\n\")"
   ]
  },
  {
   "cell_type": "code",
   "execution_count": 220,
   "metadata": {},
   "outputs": [],
   "source": [
    "import fasttext\n",
    "# Load input training set.\n",
    "\n",
    "#By default, fastText sees each training example only five times during training, which is pretty small. The number of times each examples is seen (also known as the number of epochs), can be increased using the -epoch option\n",
    "model = fasttext.train_supervised(input=\"data.train\", epoch=30)"
   ]
  },
  {
   "cell_type": "code",
   "execution_count": 221,
   "metadata": {},
   "outputs": [
    {
     "output_type": "execute_result",
     "data": {
      "text/plain": [
       "'\\nprint( model.predict(\"Franco deberia volver a vivir\") )\\nprint( model.predict(\"Los españoles son los mejores 💙\") )\\nprint( model.predict(\"Los españoles son los mejores 💚\") )\\nprint( model.predict(\"España es una gran nacion\") )\\nprint( model.predict(\"Pablo Iglesias es el mejor\") )\\nprint( model.predict(\"Pablo Iglesias es un mierdas\") )\\nprint( model.predict(\"Putos progres de mierda\") )\\nprint( model.predict(\"Viva la guardia civil\") )\\nprint( model.predict(\"Igualdad salarial para las mujeres!\") )\\nprint( model.predict(\"La españa moderada\") )\\nprint( model.predict(\"La mujer a trabajar\") )\\nprint( model.predict(\"Viva la fuerza naranja\") )\\n'"
      ]
     },
     "metadata": {},
     "execution_count": 221
    }
   ],
   "source": [
    "#To predict one instance.\n",
    "\"\"\"\n",
    "print( model.predict(\"Franco deberia volver a vivir\") )\n",
    "print( model.predict(\"Los españoles son los mejores 💙\") )\n",
    "print( model.predict(\"Los españoles son los mejores 💚\") )\n",
    "print( model.predict(\"España es una gran nacion\") )\n",
    "print( model.predict(\"Pablo Iglesias es el mejor\") )\n",
    "print( model.predict(\"Pablo Iglesias es un mierdas\") )\n",
    "print( model.predict(\"Putos progres de mierda\") )\n",
    "print( model.predict(\"Viva la guardia civil\") )\n",
    "print( model.predict(\"Igualdad salarial para las mujeres!\") )\n",
    "print( model.predict(\"La españa moderada\") )\n",
    "print( model.predict(\"La mujer a trabajar\") )\n",
    "print( model.predict(\"Viva la fuerza naranja\") )\n",
    "\"\"\""
   ]
  },
  {
   "cell_type": "code",
   "execution_count": 222,
   "metadata": {},
   "outputs": [
    {
     "output_type": "stream",
     "name": "stdout",
     "text": [
      "(3663, 0.6453726453726454, 0.6453726453726454)\nPrecision: 0.6453726453726454\nRecall: 0.6453726453726454\nFscore: 0.6453726453726454\n"
     ]
    }
   ],
   "source": [
    "#To test the test set. (number of samples, precision, recall)\n",
    "print(model.test(\"data.test\"))\n",
    "\n",
    "precision = model.test(\"data.test\", k=1)[1]\n",
    "recall = model.test(\"data.test\", k=1)[2]\n",
    "\n",
    "F_score = 2*(precision * recall)/(precision + recall)\n",
    "\n",
    "print(\"Precision:\", precision)\n",
    "print(\"Recall:\", recall)\n",
    "print(\"Fscore:\", F_score)"
   ]
  },
  {
   "cell_type": "code",
   "execution_count": 223,
   "metadata": {},
   "outputs": [],
   "source": [
    "model.save_model(\"fastTextModel.model\")"
   ]
  }
 ],
 "metadata": {
  "kernelspec": {
   "display_name": "Python 3",
   "language": "python",
   "name": "python3"
  },
  "language_info": {
   "codemirror_mode": {
    "name": "ipython",
    "version": 3
   },
   "file_extension": ".py",
   "mimetype": "text/x-python",
   "name": "python",
   "nbconvert_exporter": "python",
   "pygments_lexer": "ipython3",
   "version": "3.8.3-final"
  }
 },
 "nbformat": 4,
 "nbformat_minor": 2
}