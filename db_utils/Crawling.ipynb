{
 "cells": [
  {
   "cell_type": "code",
   "execution_count": null,
   "metadata": {
    "tags": []
   },
   "outputs": [],
   "source": [
    "import tweepy\n",
    "from datetime import datetime, timedelta, timezone\n",
    "from tweepy import Stream\n",
    "from tweepy import OAuthHandler\n",
    "from tweepy.streaming import StreamListener\n",
    "import time\n",
    "import json\n",
    "import re\n",
    "import pandas as pd\n",
    "\n",
    "# Authenticate to Twitter\n",
    "consumer_key = 'STLaRWoiHIno3A4yJaWaofEON'\n",
    "consumer_secret = '4xVfaq0AaknSk4pY1d4WvhgOl3CtaZqfdrAO1X9cPQxyOAhw1K'\n",
    "\n",
    "access_token = '1328431351259869184-qqcz9xh5OfZoVUa6o9Bk3i8XCOp17Z'\n",
    "access_secret = '6fEoU48LOnl7UsSPjqOuOI0CS3hDI2e2xZfQCmxDm2UAb'\n",
    "\n",
    "tweetsPerQry = 10\n",
    "maxTweets = 10\n",
    "\n",
    "authentication = tweepy.OAuthHandler(consumer_key, consumer_secret)\n",
    "authentication.set_access_token(access_token, access_secret)\n",
    "api = tweepy.API(authentication, wait_on_rate_limit=True, wait_on_rate_limit_notify=True)\n",
    "maxId = -1\n",
    "tweetCount = 0\n",
    "ids = []\n",
    "\n",
    "partyNames = [\"VOX\", \"PP\", \"Cs\", \"PSOE\", \"UP\"]\n",
    "\n",
    "def readFile(fileName):\n",
    "        fileObj = open(\"./userstxt/\" + fileName, \"r\") #opens the file in read mode\n",
    "        words = fileObj.read().splitlines() #puts the file into an array\n",
    "        fileObj.close()\n",
    "        return words\n",
    "\n",
    "users = []\n",
    "for party in partyNames:\n",
    "   users.append(readFile(party+\"Users.txt\")) # We create a list of list of the users of each party\n"
   ]
  },
  {
   "cell_type": "code",
   "execution_count": null,
   "metadata": {},
   "outputs": [],
   "source": [
    "dataFrames = []\n",
    "for party in users:\n",
    "    print(\"----------------\")\n",
    "    val = []\n",
    "    for user in party:\n",
    "        print(user)\n",
    "        u = api.user_timeline(screen_name = user, count = 100, include_rts = True,tweet_mode='extended')\n",
    "        for info in u:\n",
    "            text = info.retweeted_status.full_text if info.full_text.startswith(\"RT @\") else info.full_text\n",
    "            is_rt = 0\n",
    "            if info.full_text.startswith(\"RT @\"):\n",
    "                is_rt = 1\n",
    "            val.append((info.id, text,info.user.name,info.user.screen_name,info.user.description,info.user.id,is_rt,info.lang))\n",
    "\n",
    "    dataFrame = pd.DataFrame(data=val, columns=[\"id\", \"text\", \"name\", \"screen_name\", \"description\", \"user_id\", \"is_quote\", \"lang\"])\n",
    "    dataFrames.append(dataFrame)\n",
    "\n",
    "print(\"Done\")"
   ]
  },
  {
   "cell_type": "code",
   "execution_count": 42,
   "metadata": {},
   "outputs": [
    {
     "output_type": "display_data",
     "data": {
      "text/plain": "                       id                                               text  \\\n0     1334139236354809858  El Gobierno de Sánchez pretende colonizar las ...   \n1     1334139163331993600  ⚠️ El Gobierno ha pensado más en qué partido p...   \n2     1334134060260745226  No, señor Echenique: si la Justicia investiga ...   \n3     1334125199852179457  🔙 Tras décadas de gobierno socialista creando ...   \n4     1334124707856199685  ⚠️ El Gobierno para contentar a sus socios asu...   \n...                   ...                                                ...   \n5993  1331602502693883905  Ya le sonaba a la ministra raro lo bien que de...   \n5994  1331497567595716609  Es de suponer que el próximo paso de Sánchez y...   \n5995  1331493069523398660  Sánchez sigue el modelo nacionalista al dedill...   \n5996  1330976701514395648  Ahora nos va a dar lecciones de democracia qui...   \n5997  1330974492055769088  La Audiencia Nacional desautoriza a Moncloa: n...   \n\n                         name   screen_name  \\\n0             Ciudadanos 🇪🇸🇪🇺  CiudadanosCs   \n1             Ciudadanos 🇪🇸🇪🇺  CiudadanosCs   \n2             Ciudadanos 🇪🇸🇪🇺  CiudadanosCs   \n3             Ciudadanos 🇪🇸🇪🇺  CiudadanosCs   \n4             Ciudadanos 🇪🇸🇪🇺  CiudadanosCs   \n...                       ...           ...   \n5993  JuanIgnacio LópezBas🖤🇪🇸    JILopezBas   \n5994  JuanIgnacio LópezBas🖤🇪🇸    JILopezBas   \n5995  JuanIgnacio LópezBas🖤🇪🇸    JILopezBas   \n5996  JuanIgnacio LópezBas🖤🇪🇸    JILopezBas   \n5997  JuanIgnacio LópezBas🖤🇪🇸    JILopezBas   \n\n                                            description     user_id  is_quote  \\\n0     Perfil Oficial de Ciudadanos, el partido de la...    19028805         1   \n1     Perfil Oficial de Ciudadanos, el partido de la...    19028805         1   \n2     Perfil Oficial de Ciudadanos, el partido de la...    19028805         1   \n3     Perfil Oficial de Ciudadanos, el partido de la...    19028805         0   \n4     Perfil Oficial de Ciudadanos, el partido de la...    19028805         0   \n...                                                 ...         ...       ...   \n5993  Mi privilegio: haber sido Diputado en la XIII ...  3246171929         0   \n5994  Mi privilegio: haber sido Diputado en la XIII ...  3246171929         0   \n5995  Mi privilegio: haber sido Diputado en la XIII ...  3246171929         0   \n5996  Mi privilegio: haber sido Diputado en la XIII ...  3246171929         0   \n5997  Mi privilegio: haber sido Diputado en la XIII ...  3246171929         0   \n\n     lang  \n0      es  \n1      es  \n2      es  \n3      es  \n4      es  \n...   ...  \n5993   es  \n5994   es  \n5995   es  \n5996   es  \n5997   es  \n\n[5998 rows x 8 columns]",
      "text/html": "<div>\n<style scoped>\n    .dataframe tbody tr th:only-of-type {\n        vertical-align: middle;\n    }\n\n    .dataframe tbody tr th {\n        vertical-align: top;\n    }\n\n    .dataframe thead th {\n        text-align: right;\n    }\n</style>\n<table border=\"1\" class=\"dataframe\">\n  <thead>\n    <tr style=\"text-align: right;\">\n      <th></th>\n      <th>id</th>\n      <th>text</th>\n      <th>name</th>\n      <th>screen_name</th>\n      <th>description</th>\n      <th>user_id</th>\n      <th>is_quote</th>\n      <th>lang</th>\n    </tr>\n  </thead>\n  <tbody>\n    <tr>\n      <th>0</th>\n      <td>1334139236354809858</td>\n      <td>El Gobierno de Sánchez pretende colonizar las ...</td>\n      <td>Ciudadanos 🇪🇸🇪🇺</td>\n      <td>CiudadanosCs</td>\n      <td>Perfil Oficial de Ciudadanos, el partido de la...</td>\n      <td>19028805</td>\n      <td>1</td>\n      <td>es</td>\n    </tr>\n    <tr>\n      <th>1</th>\n      <td>1334139163331993600</td>\n      <td>⚠️ El Gobierno ha pensado más en qué partido p...</td>\n      <td>Ciudadanos 🇪🇸🇪🇺</td>\n      <td>CiudadanosCs</td>\n      <td>Perfil Oficial de Ciudadanos, el partido de la...</td>\n      <td>19028805</td>\n      <td>1</td>\n      <td>es</td>\n    </tr>\n    <tr>\n      <th>2</th>\n      <td>1334134060260745226</td>\n      <td>No, señor Echenique: si la Justicia investiga ...</td>\n      <td>Ciudadanos 🇪🇸🇪🇺</td>\n      <td>CiudadanosCs</td>\n      <td>Perfil Oficial de Ciudadanos, el partido de la...</td>\n      <td>19028805</td>\n      <td>1</td>\n      <td>es</td>\n    </tr>\n    <tr>\n      <th>3</th>\n      <td>1334125199852179457</td>\n      <td>🔙 Tras décadas de gobierno socialista creando ...</td>\n      <td>Ciudadanos 🇪🇸🇪🇺</td>\n      <td>CiudadanosCs</td>\n      <td>Perfil Oficial de Ciudadanos, el partido de la...</td>\n      <td>19028805</td>\n      <td>0</td>\n      <td>es</td>\n    </tr>\n    <tr>\n      <th>4</th>\n      <td>1334124707856199685</td>\n      <td>⚠️ El Gobierno para contentar a sus socios asu...</td>\n      <td>Ciudadanos 🇪🇸🇪🇺</td>\n      <td>CiudadanosCs</td>\n      <td>Perfil Oficial de Ciudadanos, el partido de la...</td>\n      <td>19028805</td>\n      <td>0</td>\n      <td>es</td>\n    </tr>\n    <tr>\n      <th>...</th>\n      <td>...</td>\n      <td>...</td>\n      <td>...</td>\n      <td>...</td>\n      <td>...</td>\n      <td>...</td>\n      <td>...</td>\n      <td>...</td>\n    </tr>\n    <tr>\n      <th>5993</th>\n      <td>1331602502693883905</td>\n      <td>Ya le sonaba a la ministra raro lo bien que de...</td>\n      <td>JuanIgnacio LópezBas🖤🇪🇸</td>\n      <td>JILopezBas</td>\n      <td>Mi privilegio: haber sido Diputado en la XIII ...</td>\n      <td>3246171929</td>\n      <td>0</td>\n      <td>es</td>\n    </tr>\n    <tr>\n      <th>5994</th>\n      <td>1331497567595716609</td>\n      <td>Es de suponer que el próximo paso de Sánchez y...</td>\n      <td>JuanIgnacio LópezBas🖤🇪🇸</td>\n      <td>JILopezBas</td>\n      <td>Mi privilegio: haber sido Diputado en la XIII ...</td>\n      <td>3246171929</td>\n      <td>0</td>\n      <td>es</td>\n    </tr>\n    <tr>\n      <th>5995</th>\n      <td>1331493069523398660</td>\n      <td>Sánchez sigue el modelo nacionalista al dedill...</td>\n      <td>JuanIgnacio LópezBas🖤🇪🇸</td>\n      <td>JILopezBas</td>\n      <td>Mi privilegio: haber sido Diputado en la XIII ...</td>\n      <td>3246171929</td>\n      <td>0</td>\n      <td>es</td>\n    </tr>\n    <tr>\n      <th>5996</th>\n      <td>1330976701514395648</td>\n      <td>Ahora nos va a dar lecciones de democracia qui...</td>\n      <td>JuanIgnacio LópezBas🖤🇪🇸</td>\n      <td>JILopezBas</td>\n      <td>Mi privilegio: haber sido Diputado en la XIII ...</td>\n      <td>3246171929</td>\n      <td>0</td>\n      <td>es</td>\n    </tr>\n    <tr>\n      <th>5997</th>\n      <td>1330974492055769088</td>\n      <td>La Audiencia Nacional desautoriza a Moncloa: n...</td>\n      <td>JuanIgnacio LópezBas🖤🇪🇸</td>\n      <td>JILopezBas</td>\n      <td>Mi privilegio: haber sido Diputado en la XIII ...</td>\n      <td>3246171929</td>\n      <td>0</td>\n      <td>es</td>\n    </tr>\n  </tbody>\n</table>\n<p>5998 rows × 8 columns</p>\n</div>"
     },
     "metadata": {}
    }
   ],
   "source": [
    "display(dataFrames[2])"
   ]
  },
  {
   "cell_type": "code",
   "execution_count": 39,
   "metadata": {},
   "outputs": [
    {
     "output_type": "stream",
     "name": "stdout",
     "text": [
      "0 VOX\n1 PP\n2 Cs\n3 PSOE\n4 UP\n"
     ]
    }
   ],
   "source": [
    "for idx, party in enumerate(partyNames):\n",
    "    print(idx, party)\n",
    "    dataFrames[idx].to_csv(party.lower() + \".csv\")"
   ]
  },
  {
   "cell_type": "code",
   "execution_count": 3,
   "metadata": {},
   "outputs": [
    {
     "output_type": "stream",
     "name": "stdout",
     "text": [
      "0\nPor qué NO a la Educación Especial. ¿Qué hay detrás? https://t.co/fbbBXv23NH\n1\nUn periodista deshaciendo la desinformación gubernamental. O sea, informando: https://t.co/kUZ0OFYG03\n2\nEsto es Sánchez https://t.co/BxbXejTEes\n3\nPor favor, apoya el periodismo libre, objetivo, de izquierdas y de servicio público, no seas hijo de puta y facha: https://t.co/JHZMEPWzcs https://t.co/5ujFxfTqIu\n4\nDes extrémistes enseignent qu'il ne faut pas respecter la France. Ils enseignent que les femmes ne sont pas l'égal des hommes, que les petites filles ne doivent pas avoir les mêmes droits que les petits garçons.\n\nJe vous le dis très clairement : pas chez nous. https://t.co/IrQ7YqOwGq\n5\nQue fácil resulta para muchos dirigentes cerrar negocios sin medidas compensatorias a los autónomos afectados cuando se tiene asegurado un sueldo público\nA muchos se les obliga a cerrar por decreto su sustento de vida sin dar compensación como ha hecho Francia,Italia y Alemania\n6\nJoaquín Leguina: «El PSOE no existe, es una sigla propiedad de un señor llamado Pedro Sánchez» https://t.co/t3dPhQf7P8\n7\nhttps://t.co/2dwor2CQrQ\n8\nSubir 17 puntos el IVA de los libros es una cosa muy de progreso.\n9\nMenos del 3% de los contagios se producen en bares,restaurantes y comercios según datos del Ministerio de Sanidad\nPero  siguen culpando y señalando a estos sectores poniendo el principal foco de las restricciones \nLamentable gestión de la pandemia!!!! https://t.co/gc69cBztUz\n10\nSi destruyes una economía y empujas a miles de empresas al cierre, da igual que subas los impuestos, no vas a tener de donde recaudar. https://t.co/O4aM7ZWPjp\n11\n⭕ ÚLTIMA HORA | Policías estallan en Madrid: \"Nos sentimos utilizados para hacer cumplir directrices políticas sin respaldo legal\"\n\n👉 El sindicato mayoritario @JupolNacional denuncia «inseguridad jurídica» en su trabajo en Madrid\n\nInforma @ajsalvador70 https://t.co/YOsrnQqBUI\n12\nEl estado de alarma anunciado por Moncloa con la resolución aún caliente del TSJM despide un inequívoco tufo a represalia. Una reacción dictada con las tripas. El coste político, económico y social de la medida será impredecible.\n13\nReunión de urgencia entre los diputados de Podemos en Galicia y el Comité de Expertos de Illa. Tensa calma. https://t.co/CTLLoXuC9D\n14\n.@perezreverte señala que la herida de la Guerra Civil no estaba abierta, \"la han reabierto\" https://t.co/lLbpcrHvyv https://t.co/2AzgVrVZ1D\n15\nAlbert Rivera, expresidente de Ciudadanos, en @LaHoraTVE: \"Yo no estaba en política para tener un carguito, un sueldo o un helicóptero. Yo estaba en política porque quería transformar España\"\n\n📺 https://t.co/jsEYspybjz #LaHoraAlbertRivera https://t.co/UlDeTjJisO\n16\nHe invitado a comer al comité de expertos y me ha salido por mi cubierto.\n"
     ]
    }
   ],
   "source": [
    "testTweets = pd.DataFrame(data=val, columns=[\"id\", \"text\", \"name\", \"screen_name\", \"description\", \"user_id\", \"is_quote\", \"lang\"])\n",
    "rtTweets = testTweets[testTweets[\"is_quote\"] == True].reset_index()\n",
    "for i, t in enumerate(rtTweets[\"text\"] ):\n",
    "    print(i)\n",
    "    print(t)"
   ]
  }
 ],
 "metadata": {
  "kernelspec": {
   "display_name": "Python 3",
   "language": "python",
   "name": "python3"
  },
  "language_info": {
   "codemirror_mode": {
    "name": "ipython",
    "version": 3
   },
   "file_extension": ".py",
   "mimetype": "text/x-python",
   "name": "python",
   "nbconvert_exporter": "python",
   "pygments_lexer": "ipython3",
   "version": "3.8.5-final"
  }
 },
 "nbformat": 4,
 "nbformat_minor": 2
}