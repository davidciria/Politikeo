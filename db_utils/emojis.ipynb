{
 "cells": [
  {
   "cell_type": "code",
   "execution_count": 25,
   "metadata": {},
   "outputs": [
    {
     "name": "stdout",
     "output_type": "stream",
     "text": [
      "Marian VOX💚❤💛❤💚 🇪 🇺 🇸\n",
      "{'💛': 1, '💚': 1, '❤': 1, '🇪🇸': 1, '🇪🇺': 1}\n",
      "\n"
     ]
    }
   ],
   "source": [
    "import re\n",
    "mainList = {}\n",
    "text = \"Marian VOX💚❤💛❤💚 🇪 🇺 🇸\"\n",
    "print(text) # with emoji\n",
    "\n",
    "def Emojify(text):\n",
    "    regrex_pattern = re.compile(\n",
    "    u'([\\U0001F601-\\U0001F64F\\U00002702-\\U000027B0\\U0001F680-\\U0001F6C0\\U000024C2-\\U0001F251\\U0001F600-\\U0001F636\\U0001F681-\\U0001F6C5\\U0001F30D-\\U0001F567])'\n",
    "    , flags=re.UNICODE\n",
    "    )\n",
    "    return regrex_pattern.findall(text) #.sub(r'', string)\n",
    "\n",
    "\n",
    "def countEmojis(text,mainDict):\n",
    "    lt = list(set(Emojify(text)))\n",
    "    if \"🇪\" in lt:\n",
    "        lt.remove(\"🇪\")\n",
    "        if \"🇸\" in lt:\n",
    "            lt.remove(\"🇸\")\n",
    "            lt.append(\"🇪🇸\")\n",
    "        if \"🇺\" in lt:\n",
    "            lt.remove(\"🇺\")\n",
    "            lt.append(\"🇪🇺\")\n",
    "    for emoji in lt:\n",
    "        if emoji in mainDict:\n",
    "            mainDict[emoji]+=1\n",
    "        else:\n",
    "            mainDict[emoji]=1\n",
    "    return mainDict\n",
    "\n",
    "print(countEmojis(text,mainList))\n",
    "\n",
    "print(\"\")\n",
    "    \n",
    "   "
   ]
  },
  {
   "cell_type": "code",
   "execution_count": null,
   "metadata": {},
   "outputs": [],
   "source": []
  },
  {
   "cell_type": "code",
   "execution_count": null,
   "metadata": {},
   "outputs": [],
   "source": []
  }
 ],
 "metadata": {
  "kernelspec": {
   "display_name": "Python 3",
   "language": "python",
   "name": "python3"
  },
  "language_info": {
   "codemirror_mode": {
    "name": "ipython",
    "version": 3
   },
   "file_extension": ".py",
   "mimetype": "text/x-python",
   "name": "python",
   "nbconvert_exporter": "python",
   "pygments_lexer": "ipython3",
   "version": "3.8.3"
  }
 },
 "nbformat": 4,
 "nbformat_minor": 2
}
