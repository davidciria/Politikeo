{
 "metadata": {
  "language_info": {
   "codemirror_mode": {
    "name": "ipython",
    "version": 3
   },
   "file_extension": ".py",
   "mimetype": "text/x-python",
   "name": "python",
   "nbconvert_exporter": "python",
   "pygments_lexer": "ipython3",
   "version": "3.8.3-final"
  },
  "orig_nbformat": 2,
  "kernelspec": {
   "name": "python3",
   "display_name": "Python 3"
  }
 },
 "nbformat": 4,
 "nbformat_minor": 2,
 "cells": [
  {
   "cell_type": "code",
   "execution_count": 12,
   "metadata": {},
   "outputs": [
    {
     "output_type": "execute_result",
     "data": {
      "text/plain": [
       "'\\nThe training file should be this format:\\n\\n__label__pp this is my text\\n__label__psoe this is also my text\\n'"
      ]
     },
     "metadata": {},
     "execution_count": 12
    }
   ],
   "source": [
    "import fasttext\n",
    "\n",
    "\"\"\"\n",
    "The training file should be this format:\n",
    "\n",
    "__label__pp this is my text\n",
    "__label__psoe this is also my text\n",
    "\"\"\""
   ]
  },
  {
   "cell_type": "code",
   "execution_count": 30,
   "metadata": {},
   "outputs": [
    {
     "output_type": "display_data",
     "data": {
      "text/plain": "                                                  tweet         label\n0      @JesusCintora: \"Sanitarios de la primaria de ...   __label__up\n1                   @DabitxoPiston: Donostia Scape Room   __label__up\n2      @OskarMatute: Así se entiende mucho mejor el ...   __label__up\n3      @IosuPosti: Hola! Mi nombre es Iosu Etayo Pal...   __label__up\n4      @OskarMatute: Pues, a riesgo de aburrir, lo r...   __label__up\n...                                                 ...           ...\n4962  SE PODRA DECIR QUE EL ECHEMINGA ES UN DELINCUE...  __label__vox\n4963  El colosal golpe de Herrera a Simancas por su ...  __label__vox\n4964   @MadamePerlan: @Macarena_Olona Hola Macarena,...  __label__vox\n4965   @frandevox: Buenos días a todos desde la DlCT...  __label__vox\n4966  ¡Milagros de la Ciencia!\\n\\nÉste va a ser el p...  __label__vox\n\n[19892 rows x 2 columns]",
      "text/html": "<div>\n<style scoped>\n    .dataframe tbody tr th:only-of-type {\n        vertical-align: middle;\n    }\n\n    .dataframe tbody tr th {\n        vertical-align: top;\n    }\n\n    .dataframe thead th {\n        text-align: right;\n    }\n</style>\n<table border=\"1\" class=\"dataframe\">\n  <thead>\n    <tr style=\"text-align: right;\">\n      <th></th>\n      <th>tweet</th>\n      <th>label</th>\n    </tr>\n  </thead>\n  <tbody>\n    <tr>\n      <th>0</th>\n      <td>@JesusCintora: \"Sanitarios de la primaria de ...</td>\n      <td>__label__up</td>\n    </tr>\n    <tr>\n      <th>1</th>\n      <td>@DabitxoPiston: Donostia Scape Room</td>\n      <td>__label__up</td>\n    </tr>\n    <tr>\n      <th>2</th>\n      <td>@OskarMatute: Así se entiende mucho mejor el ...</td>\n      <td>__label__up</td>\n    </tr>\n    <tr>\n      <th>3</th>\n      <td>@IosuPosti: Hola! Mi nombre es Iosu Etayo Pal...</td>\n      <td>__label__up</td>\n    </tr>\n    <tr>\n      <th>4</th>\n      <td>@OskarMatute: Pues, a riesgo de aburrir, lo r...</td>\n      <td>__label__up</td>\n    </tr>\n    <tr>\n      <th>...</th>\n      <td>...</td>\n      <td>...</td>\n    </tr>\n    <tr>\n      <th>4962</th>\n      <td>SE PODRA DECIR QUE EL ECHEMINGA ES UN DELINCUE...</td>\n      <td>__label__vox</td>\n    </tr>\n    <tr>\n      <th>4963</th>\n      <td>El colosal golpe de Herrera a Simancas por su ...</td>\n      <td>__label__vox</td>\n    </tr>\n    <tr>\n      <th>4964</th>\n      <td>@MadamePerlan: @Macarena_Olona Hola Macarena,...</td>\n      <td>__label__vox</td>\n    </tr>\n    <tr>\n      <th>4965</th>\n      <td>@frandevox: Buenos días a todos desde la DlCT...</td>\n      <td>__label__vox</td>\n    </tr>\n    <tr>\n      <th>4966</th>\n      <td>¡Milagros de la Ciencia!\\n\\nÉste va a ser el p...</td>\n      <td>__label__vox</td>\n    </tr>\n  </tbody>\n</table>\n<p>19892 rows × 2 columns</p>\n</div>"
     },
     "metadata": {}
    }
   ],
   "source": [
    "import pandas as pd\n",
    "import numpy as np\n",
    "import re\n",
    "\n",
    "def clean_tweet(text):\n",
    "    return re.sub(\"RT\", \"\", text)\n",
    "\n",
    "#Read and clean data for each party.\n",
    "\n",
    "#Podemos.\n",
    "up_cleaned_data = pd.DataFrame()\n",
    "up_df = pd.read_csv ('up.csv')\n",
    "up_cleaned_data[\"tweet\"] = up_df[\"text\"].apply(clean_tweet)\n",
    "up_cleaned_data[\"label\"] = \"__label__up\"\n",
    "#Psoe.\n",
    "psoe_cleaned_data = pd.DataFrame()\n",
    "psoe_df = pd.read_csv ('psoe.csv')\n",
    "psoe_cleaned_data[\"tweet\"] = psoe_df[\"text\"].apply(clean_tweet)\n",
    "psoe_cleaned_data[\"label\"] = \"__label__psoe\"\n",
    "#PP.\n",
    "pp_cleaned_data = pd.DataFrame()\n",
    "pp_df = pd.read_csv ('pp.csv')\n",
    "pp_cleaned_data[\"tweet\"] = pp_df[\"text\"].apply(clean_tweet)\n",
    "pp_cleaned_data[\"label\"] = \"__label__pp\"\n",
    "#Vox.\n",
    "vox_cleaned_data = pd.DataFrame()\n",
    "vox_df = pd.read_csv ('vox.csv')\n",
    "vox_cleaned_data[\"tweet\"] = vox_df[\"text\"].apply(clean_tweet)\n",
    "vox_cleaned_data[\"label\"] = \"__label__vox\"\n",
    "\n",
    "#Concat all parties data.\n",
    "data = pd.concat([up_cleaned_data, psoe_cleaned_data, pp_cleaned_data, vox_cleaned_data])\n",
    "\n",
    "display(data)"
   ]
  },
  {
   "cell_type": "code",
   "execution_count": 35,
   "metadata": {},
   "outputs": [
    {
     "output_type": "display_data",
     "data": {
      "text/plain": "                                                  tweet          label\n4712   @populares: 📺 @pablocasado_: \"Con la que está...    __label__pp\n3369   @Pacoboya: OPINIÓN | Un reto inaplazable, por...  __label__psoe\n3100  @SerafnMiguelGu1 @Apapell Dios, como estáis,  ...  __label__psoe\n1984  Siempre que sea una búsqueda y no una obsesión...    __label__up\n4622   @vuthy1Iiving: Yo por ellas madre y ellas por...    __label__up\n...                                                 ...            ...\n1314   @PPAlcobendas: Defendemos en #PlenoAlcobendas...    __label__pp\n1994   @TvPlataforma: La nueva normalidad d ⁦@sanche...    __label__pp\n411    @Correos: Este año celebramos el #12deOctubre...  __label__psoe\n860    @PabloIglesias: Esta mañana ha llegado el pri...    __label__up\n870   Menos encierros y más financiar las mascarilla...   __label__vox\n\n[15913 rows x 2 columns]",
      "text/html": "<div>\n<style scoped>\n    .dataframe tbody tr th:only-of-type {\n        vertical-align: middle;\n    }\n\n    .dataframe tbody tr th {\n        vertical-align: top;\n    }\n\n    .dataframe thead th {\n        text-align: right;\n    }\n</style>\n<table border=\"1\" class=\"dataframe\">\n  <thead>\n    <tr style=\"text-align: right;\">\n      <th></th>\n      <th>tweet</th>\n      <th>label</th>\n    </tr>\n  </thead>\n  <tbody>\n    <tr>\n      <th>4712</th>\n      <td>@populares: 📺 @pablocasado_: \"Con la que está...</td>\n      <td>__label__pp</td>\n    </tr>\n    <tr>\n      <th>3369</th>\n      <td>@Pacoboya: OPINIÓN | Un reto inaplazable, por...</td>\n      <td>__label__psoe</td>\n    </tr>\n    <tr>\n      <th>3100</th>\n      <td>@SerafnMiguelGu1 @Apapell Dios, como estáis,  ...</td>\n      <td>__label__psoe</td>\n    </tr>\n    <tr>\n      <th>1984</th>\n      <td>Siempre que sea una búsqueda y no una obsesión...</td>\n      <td>__label__up</td>\n    </tr>\n    <tr>\n      <th>4622</th>\n      <td>@vuthy1Iiving: Yo por ellas madre y ellas por...</td>\n      <td>__label__up</td>\n    </tr>\n    <tr>\n      <th>...</th>\n      <td>...</td>\n      <td>...</td>\n    </tr>\n    <tr>\n      <th>1314</th>\n      <td>@PPAlcobendas: Defendemos en #PlenoAlcobendas...</td>\n      <td>__label__pp</td>\n    </tr>\n    <tr>\n      <th>1994</th>\n      <td>@TvPlataforma: La nueva normalidad d ⁦@sanche...</td>\n      <td>__label__pp</td>\n    </tr>\n    <tr>\n      <th>411</th>\n      <td>@Correos: Este año celebramos el #12deOctubre...</td>\n      <td>__label__psoe</td>\n    </tr>\n    <tr>\n      <th>860</th>\n      <td>@PabloIglesias: Esta mañana ha llegado el pri...</td>\n      <td>__label__up</td>\n    </tr>\n    <tr>\n      <th>870</th>\n      <td>Menos encierros y más financiar las mascarilla...</td>\n      <td>__label__vox</td>\n    </tr>\n  </tbody>\n</table>\n<p>15913 rows × 2 columns</p>\n</div>"
     },
     "metadata": {}
    },
    {
     "output_type": "display_data",
     "data": {
      "text/plain": "                                                  tweet          label\n3912   @MiaLorca: El gobierno tiene comprometido\\n14...    __label__up\n1510  Usar mascarilla es una medida importante para ...    __label__up\n4709  \"El Pelos', Favorito a Liderar Podemos en Madr...   __label__vox\n4159   @El_Dios_Odin1: Una fuente es la vendedora de...   __label__vox\n3521          @miqueleandolini: @PhilAMellows Algo así.    __label__pp\n...                                                 ...            ...\n2518   @mariaru25528317: @AngelG_A @DefensorPuebloE ...  __label__psoe\n1333   @REDROJA4: Buenos días compañeros y compañera...    __label__up\n4146   @mecompletocon: @EncuenPorLaRep Ahí estaremos...  __label__psoe\n4801  Pedimos a @EU_Commission poder hacer aquí lo q...    __label__pp\n2752   @danielguzman: Que sí, que sí, pero que el re...    __label__up\n\n[3979 rows x 2 columns]",
      "text/html": "<div>\n<style scoped>\n    .dataframe tbody tr th:only-of-type {\n        vertical-align: middle;\n    }\n\n    .dataframe tbody tr th {\n        vertical-align: top;\n    }\n\n    .dataframe thead th {\n        text-align: right;\n    }\n</style>\n<table border=\"1\" class=\"dataframe\">\n  <thead>\n    <tr style=\"text-align: right;\">\n      <th></th>\n      <th>tweet</th>\n      <th>label</th>\n    </tr>\n  </thead>\n  <tbody>\n    <tr>\n      <th>3912</th>\n      <td>@MiaLorca: El gobierno tiene comprometido\\n14...</td>\n      <td>__label__up</td>\n    </tr>\n    <tr>\n      <th>1510</th>\n      <td>Usar mascarilla es una medida importante para ...</td>\n      <td>__label__up</td>\n    </tr>\n    <tr>\n      <th>4709</th>\n      <td>\"El Pelos', Favorito a Liderar Podemos en Madr...</td>\n      <td>__label__vox</td>\n    </tr>\n    <tr>\n      <th>4159</th>\n      <td>@El_Dios_Odin1: Una fuente es la vendedora de...</td>\n      <td>__label__vox</td>\n    </tr>\n    <tr>\n      <th>3521</th>\n      <td>@miqueleandolini: @PhilAMellows Algo así.</td>\n      <td>__label__pp</td>\n    </tr>\n    <tr>\n      <th>...</th>\n      <td>...</td>\n      <td>...</td>\n    </tr>\n    <tr>\n      <th>2518</th>\n      <td>@mariaru25528317: @AngelG_A @DefensorPuebloE ...</td>\n      <td>__label__psoe</td>\n    </tr>\n    <tr>\n      <th>1333</th>\n      <td>@REDROJA4: Buenos días compañeros y compañera...</td>\n      <td>__label__up</td>\n    </tr>\n    <tr>\n      <th>4146</th>\n      <td>@mecompletocon: @EncuenPorLaRep Ahí estaremos...</td>\n      <td>__label__psoe</td>\n    </tr>\n    <tr>\n      <th>4801</th>\n      <td>Pedimos a @EU_Commission poder hacer aquí lo q...</td>\n      <td>__label__pp</td>\n    </tr>\n    <tr>\n      <th>2752</th>\n      <td>@danielguzman: Que sí, que sí, pero que el re...</td>\n      <td>__label__up</td>\n    </tr>\n  </tbody>\n</table>\n<p>3979 rows × 2 columns</p>\n</div>"
     },
     "metadata": {}
    }
   ],
   "source": [
    "#Split data in training and test sets.\n",
    "import csv\n",
    "from sklearn.model_selection import train_test_split\n",
    "\n",
    "X_train, X_test, y_train, y_test = train_test_split(data[\"tweet\"], data[\"label\"], test_size=0.20, random_state=42)\n",
    "\n",
    "training = pd.concat([X_train,y_train], axis=1)\n",
    "display(training)\n",
    "\n",
    "test = pd.concat([X_test,y_test], axis=1)\n",
    "display(test)\n",
    "\n",
    "#Create training file.\n",
    "training[training.columns.values[::-1]].to_csv('data.train', index=False, sep=' ', header=False, quoting=csv.QUOTE_NONE, quotechar=\"\", escapechar=\" \")\n",
    "\n",
    "#Create test file.\n",
    "test[test.columns.values[::-1]].to_csv('data.test', index=False, sep=' ', header=False, quoting=csv.QUOTE_NONE, quotechar=\"\", escapechar=\" \")"
   ]
  },
  {
   "cell_type": "code",
   "execution_count": 80,
   "metadata": {},
   "outputs": [],
   "source": [
    "import fasttext\n",
    "# Load input training set.\n",
    "\n",
    "#By default, fastText sees each training example only five times during training, which is pretty small. The number of times each examples is seen (also known as the number of epochs), can be increased using the -epoch option\n",
    "model = fasttext.train_supervised(input=\"data.train\", epoch=25)"
   ]
  },
  {
   "cell_type": "code",
   "execution_count": 95,
   "metadata": {},
   "outputs": [
    {
     "output_type": "stream",
     "name": "stdout",
     "text": [
      "(('__label__vox',), array([1.0000093]))\n(('__label__pp',), array([0.97923064]))\n(('__label__vox',), array([0.77944636]))\n(('__label__up',), array([0.96504098]))\n(('__label__vox',), array([0.69973743]))\n(('__label__up',), array([0.74366844]))\n(('__label__psoe',), array([0.99863458]))\n"
     ]
    }
   ],
   "source": [
    "#To predict one instance.\n",
    "print( model.predict(\"Franco deberia volver a vivir\") )\n",
    "print( model.predict(\"Los españoles son los mejores 💙\") )\n",
    "print( model.predict(\"Los españoles son los mejores 💚\") )\n",
    "print( model.predict(\"Viva españa\") )\n",
    "print( model.predict(\"Pablo iglesias es el mejor\") )\n",
    "print( model.predict(\"Pablo iglesias es un mierdas\") )\n",
    "print( model.predict(\"La españa moderada\") )"
   ]
  },
  {
   "cell_type": "code",
   "execution_count": 57,
   "metadata": {},
   "outputs": [
    {
     "output_type": "stream",
     "name": "stdout",
     "text": [
      "Fscore: 0.7094747423975873\n"
     ]
    }
   ],
   "source": [
    "#To test the test set. (number of samples, precision, recall)\n",
    "model.test(\"data.test\")\n",
    "\n",
    "precision = model.test(\"data.test\")[1]\n",
    "recall = model.test(\"data.test\")[2]\n",
    "\n",
    "F_score = 2*(precision * recall)/(precision + recall)\n",
    "\n",
    "print(\"Fscore:\", F_score)"
   ]
  }
 ]
}