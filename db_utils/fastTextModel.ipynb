{
 "cells": [
  {
   "cell_type": "code",
   "execution_count": 33,
   "metadata": {},
   "outputs": [
    {
     "output_type": "execute_result",
     "data": {
      "text/plain": [
       "'\\nThe training file should be this format:\\n\\n__label__pp this is my text\\n__label__psoe this is also my text\\n'"
      ]
     },
     "metadata": {},
     "execution_count": 33
    }
   ],
   "source": [
    "import fasttext\n",
    "\n",
    "\"\"\"\n",
    "The training file should be this format:\n",
    "\n",
    "__label__pp this is my text\n",
    "__label__psoe this is also my text\n",
    "\"\"\""
   ]
  },
  {
   "cell_type": "code",
   "execution_count": 34,
   "metadata": {},
   "outputs": [
    {
     "output_type": "stream",
     "name": "stdout",
     "text": [
      "4950\n",
      "4950\n",
      "4950\n",
      "4950\n",
      "4950\n"
     ]
    }
   ],
   "source": [
    "import pandas as pd\n",
    "import numpy as np\n",
    "import re\n",
    "import emoji\n",
    "\n",
    "#Function to get all emojis in a text.\n",
    "def split_emojis(text):\n",
    "\n",
    "    emoji_list = []\n",
    "    data = re.findall(r'\\X', text)\n",
    "    for word in data:\n",
    "        if any(char in emoji.UNICODE_EMOJI for char in word):\n",
    "            emoji_list.append(word)\n",
    "\n",
    "    return emoji_list\n",
    "\n",
    "#Function to clean the text of a tweet.\n",
    "def clean_tweet(text):\n",
    "    clean_text = re.sub(\"@.*:\", \"\", text) #This do not improve performance.\n",
    "    clean_text = re.sub(\"@.* \", \"\", clean_text)\n",
    "    clean_text = re.sub(\"RT\", \"\", clean_text)\n",
    "    clean_text = re.sub(\"\\n\", \" \", clean_text)\n",
    "    #Separate emojis from words.\n",
    "    \"\"\"\n",
    "    sep_emojis_text = \"\"\n",
    "    for c in clean_text:\n",
    "        if c in emoji.UNICODE_EMOJI:\n",
    "            sep_emojis_text+=' '+c+' '\n",
    "        else:\n",
    "            sep_emojis_text+=c\n",
    "     #This do not improve performance.\n",
    "    \"\"\"\n",
    "    return clean_text\n",
    "\n",
    "#Read and clean data for each party.\n",
    "\n",
    "#Podemos.\n",
    "up_cleaned_data = pd.DataFrame()\n",
    "up_df = pd.read_csv ('up.csv').head(4950)\n",
    "up_cleaned_data[\"tweet\"] = up_df[\"text\"].apply(clean_tweet)\n",
    "up_cleaned_data[\"label\"] = \"__label__up\"\n",
    "print(len(up_df))\n",
    "#Psoe.\n",
    "psoe_cleaned_data = pd.DataFrame()\n",
    "psoe_df = pd.read_csv ('psoe.csv').head(4950)\n",
    "psoe_cleaned_data[\"tweet\"] = psoe_df[\"text\"].apply(clean_tweet)\n",
    "psoe_cleaned_data[\"label\"] = \"__label__psoe\"\n",
    "print(len(psoe_df))\n",
    "#CS.\n",
    "cs_cleaned_data = pd.DataFrame()\n",
    "cs_df = pd.read_csv ('cs.csv').head(4950)\n",
    "cs_cleaned_data[\"tweet\"] = cs_df[\"text\"].apply(clean_tweet)\n",
    "cs_cleaned_data[\"label\"] = \"__label__cs\"\n",
    "print(len(cs_df))\n",
    "#PP.\n",
    "pp_cleaned_data = pd.DataFrame()\n",
    "pp_df = pd.read_csv ('pp.csv').head(4950)\n",
    "pp_cleaned_data[\"tweet\"] = pp_df[\"text\"].apply(clean_tweet)\n",
    "pp_cleaned_data[\"label\"] = \"__label__pp\"\n",
    "print(len(pp_df))\n",
    "#Vox.\n",
    "vox_cleaned_data = pd.DataFrame()\n",
    "vox_df = pd.read_csv ('vox.csv').head(4950)\n",
    "vox_cleaned_data[\"tweet\"] = vox_df[\"text\"].apply(clean_tweet)\n",
    "vox_cleaned_data[\"label\"] = \"__label__vox\"\n",
    "print(len(vox_df))\n",
    "\n",
    "#Concat all parties data.\n",
    "data = pd.concat([up_cleaned_data, psoe_cleaned_data, cs_cleaned_data, pp_cleaned_data, vox_cleaned_data])"
   ]
  },
  {
   "cell_type": "code",
   "execution_count": 35,
   "metadata": {},
   "outputs": [
    {
     "output_type": "display_data",
     "data": {
      "text/plain": "                                                  tweet          label\n3638    Toda España ha sido testigo.  Esto del gran ...    __label__cs\n1383    Estáis en la puñetera ruina, tenéis el frigo...   __label__vox\n3950                                  //t.co/Bya95PYsad    __label__cs\n1943                                                //…    __label__up\n1712    Afortunadamente algunos medios se dedican a ...  __label__psoe\n...                                                 ...            ...\n1775                                       //t.co/af04…   __label__vox\n440   Manifestaciones contra el gobierno gritando: “...  __label__psoe\n860     Esta mañana ha llegado el primer SÍ a los Pr...    __label__up\n945   Los abajo firmantes, 20 años después. https://...    __label__pp\n3854    Que un apparatchik consumado de la corrupció...   __label__vox\n\n[21037 rows x 2 columns]",
      "text/html": "<div>\n<style scoped>\n    .dataframe tbody tr th:only-of-type {\n        vertical-align: middle;\n    }\n\n    .dataframe tbody tr th {\n        vertical-align: top;\n    }\n\n    .dataframe thead th {\n        text-align: right;\n    }\n</style>\n<table border=\"1\" class=\"dataframe\">\n  <thead>\n    <tr style=\"text-align: right;\">\n      <th></th>\n      <th>tweet</th>\n      <th>label</th>\n    </tr>\n  </thead>\n  <tbody>\n    <tr>\n      <th>3638</th>\n      <td>Toda España ha sido testigo.  Esto del gran ...</td>\n      <td>__label__cs</td>\n    </tr>\n    <tr>\n      <th>1383</th>\n      <td>Estáis en la puñetera ruina, tenéis el frigo...</td>\n      <td>__label__vox</td>\n    </tr>\n    <tr>\n      <th>3950</th>\n      <td>//t.co/Bya95PYsad</td>\n      <td>__label__cs</td>\n    </tr>\n    <tr>\n      <th>1943</th>\n      <td>//…</td>\n      <td>__label__up</td>\n    </tr>\n    <tr>\n      <th>1712</th>\n      <td>Afortunadamente algunos medios se dedican a ...</td>\n      <td>__label__psoe</td>\n    </tr>\n    <tr>\n      <th>...</th>\n      <td>...</td>\n      <td>...</td>\n    </tr>\n    <tr>\n      <th>1775</th>\n      <td>//t.co/af04…</td>\n      <td>__label__vox</td>\n    </tr>\n    <tr>\n      <th>440</th>\n      <td>Manifestaciones contra el gobierno gritando: “...</td>\n      <td>__label__psoe</td>\n    </tr>\n    <tr>\n      <th>860</th>\n      <td>Esta mañana ha llegado el primer SÍ a los Pr...</td>\n      <td>__label__up</td>\n    </tr>\n    <tr>\n      <th>945</th>\n      <td>Los abajo firmantes, 20 años después. https://...</td>\n      <td>__label__pp</td>\n    </tr>\n    <tr>\n      <th>3854</th>\n      <td>Que un apparatchik consumado de la corrupció...</td>\n      <td>__label__vox</td>\n    </tr>\n  </tbody>\n</table>\n<p>21037 rows × 2 columns</p>\n</div>"
     },
     "metadata": {}
    },
    {
     "output_type": "display_data",
     "data": {
      "text/plain": "                                                  tweet          label\n3857                                            soporto  __label__psoe\n1457  Qué gusto poder hablar sin gritos ni ruido ni ...    __label__up\n1743    El Gobierno reconoce el trabajo fundamental ...    __label__up\n3729    El centro al que va mi hermano es concertado...  __label__psoe\n87                                            Hola 9.1?    __label__pp\n...                                                 ...            ...\n1852                                                 Cs    __label__cs\n766     Todo mi cariño a las personas que no pueden ...    __label__pp\n4202      ‼️ Q raro ‼️ #Bruselas llamando mentiroso a 😆    __label__cs\n1125    Todo lo que dice el presidente es correcto y...    __label__pp\n29                                         Cabrones!!!!   __label__vox\n\n[3713 rows x 2 columns]",
      "text/html": "<div>\n<style scoped>\n    .dataframe tbody tr th:only-of-type {\n        vertical-align: middle;\n    }\n\n    .dataframe tbody tr th {\n        vertical-align: top;\n    }\n\n    .dataframe thead th {\n        text-align: right;\n    }\n</style>\n<table border=\"1\" class=\"dataframe\">\n  <thead>\n    <tr style=\"text-align: right;\">\n      <th></th>\n      <th>tweet</th>\n      <th>label</th>\n    </tr>\n  </thead>\n  <tbody>\n    <tr>\n      <th>3857</th>\n      <td>soporto</td>\n      <td>__label__psoe</td>\n    </tr>\n    <tr>\n      <th>1457</th>\n      <td>Qué gusto poder hablar sin gritos ni ruido ni ...</td>\n      <td>__label__up</td>\n    </tr>\n    <tr>\n      <th>1743</th>\n      <td>El Gobierno reconoce el trabajo fundamental ...</td>\n      <td>__label__up</td>\n    </tr>\n    <tr>\n      <th>3729</th>\n      <td>El centro al que va mi hermano es concertado...</td>\n      <td>__label__psoe</td>\n    </tr>\n    <tr>\n      <th>87</th>\n      <td>Hola 9.1?</td>\n      <td>__label__pp</td>\n    </tr>\n    <tr>\n      <th>...</th>\n      <td>...</td>\n      <td>...</td>\n    </tr>\n    <tr>\n      <th>1852</th>\n      <td>Cs</td>\n      <td>__label__cs</td>\n    </tr>\n    <tr>\n      <th>766</th>\n      <td>Todo mi cariño a las personas que no pueden ...</td>\n      <td>__label__pp</td>\n    </tr>\n    <tr>\n      <th>4202</th>\n      <td>‼️ Q raro ‼️ #Bruselas llamando mentiroso a 😆</td>\n      <td>__label__cs</td>\n    </tr>\n    <tr>\n      <th>1125</th>\n      <td>Todo lo que dice el presidente es correcto y...</td>\n      <td>__label__pp</td>\n    </tr>\n    <tr>\n      <th>29</th>\n      <td>Cabrones!!!!</td>\n      <td>__label__vox</td>\n    </tr>\n  </tbody>\n</table>\n<p>3713 rows × 2 columns</p>\n</div>"
     },
     "metadata": {}
    }
   ],
   "source": [
    "#Split data in training and test sets.\n",
    "import csv\n",
    "from sklearn.model_selection import train_test_split\n",
    "\n",
    "X_train, X_test, y_train, y_test = train_test_split(data[\"tweet\"], data[\"label\"], test_size=0.15, random_state=42)\n",
    "\n",
    "training = pd.concat([X_train,y_train], axis=1)\n",
    "display(training)\n",
    "\n",
    "test = pd.concat([X_test,y_test], axis=1)\n",
    "display(test)\n",
    "\n",
    "#Create training file.\n",
    "training[training.columns.values[::-1]].to_csv('data.train', index=False, sep=' ', header=False, quoting=csv.QUOTE_NONE, quotechar=\"\", escapechar=\" \")\n",
    "#data.to_csv('data.train', index=False, sep=' ', header=False, quoting=csv.QUOTE_NONE, quotechar=\"\", escapechar=\" \")\n",
    "\n",
    "#Create test file.\n",
    "test[test.columns.values[::-1]].to_csv('data.test', index=False, sep=' ', header=False, quoting=csv.QUOTE_NONE, quotechar=\"\", escapechar=\" \")"
   ]
  },
  {
   "cell_type": "code",
   "execution_count": 1,
   "metadata": {},
   "outputs": [],
   "source": [
    "import fasttext\n",
    "# Load input training set.\n",
    "\n",
    "#By default, fastText sees each training example only five times during training, which is pretty small. The number of times each examples is seen (also known as the number of epochs), can be increased using the -epoch option\n",
    "model = fasttext.train_supervised(input=\"data.train\", epoch=25)"
   ]
  },
  {
   "cell_type": "code",
   "execution_count": 2,
   "metadata": {},
   "outputs": [
    {
     "output_type": "stream",
     "name": "stdout",
     "text": [
      "(('__label__vox',), array([0.85946786]))\n(('__label__pp',), array([0.99893707]))\n(('__label__vox',), array([0.93139249]))\n(('__label__cs',), array([0.97932172]))\n(('__label__cs',), array([0.50687134]))\n(('__label__up',), array([0.95963526]))\n(('__label__vox',), array([1.00000906]))\n(('__label__up',), array([0.65899771]))\n(('__label__up',), array([0.90472549]))\n(('__label__cs',), array([0.97372305]))\n(('__label__cs',), array([0.99992967]))\n(('__label__up',), array([0.99962616]))\n"
     ]
    }
   ],
   "source": [
    "#To predict one instance.\n",
    "print( model.predict(\"Franco deberia volver a vivir\") )\n",
    "print( model.predict(\"Los españoles son los mejores 💙\") )\n",
    "print( model.predict(\"Los españoles son los mejores 💚\") )\n",
    "print( model.predict(\"España es una gran nacion\") )\n",
    "print( model.predict(\"Pablo Iglesias es el mejor\") )\n",
    "print( model.predict(\"Pablo Iglesias es un mierdas\") )\n",
    "print( model.predict(\"Putos progres de mierda\") )\n",
    "print( model.predict(\"Viva la guardia civil\") )\n",
    "print( model.predict(\"Igualdad salarial para las mujeres!\") )\n",
    "print( model.predict(\"La españa moderada\") )\n",
    "print( model.predict(\"La mujer a trabajar\") )\n",
    "print( model.predict(\"Viva la fuerza naranja\") )"
   ]
  },
  {
   "cell_type": "code",
   "execution_count": 3,
   "metadata": {},
   "outputs": [
    {
     "output_type": "stream",
     "name": "stdout",
     "text": [
      "Precision: 0.4901696741179639\nRecall: 0.4901696741179639\nFscore: 0.4901696741179639\n"
     ]
    }
   ],
   "source": [
    "#To test the test set. (number of samples, precision, recall)\n",
    "model.test(\"data.test\")\n",
    "\n",
    "precision = model.test(\"data.test\")[1]\n",
    "recall = model.test(\"data.test\")[2]\n",
    "\n",
    "F_score = 2*(precision * recall)/(precision + recall)\n",
    "\n",
    "print(\"Precision:\", precision)\n",
    "print(\"Recall:\", recall)\n",
    "print(\"Fscore:\", F_score)"
   ]
  },
  {
   "cell_type": "code",
   "execution_count": 4,
   "metadata": {},
   "outputs": [],
   "source": [
    "model.save_model(\"fastTextModel.model\")"
   ]
  }
 ],
 "metadata": {
  "kernelspec": {
   "display_name": "Python 3",
   "language": "python",
   "name": "python3"
  },
  "language_info": {
   "codemirror_mode": {
    "name": "ipython",
    "version": 3
   },
   "file_extension": ".py",
   "mimetype": "text/x-python",
   "name": "python",
   "nbconvert_exporter": "python",
   "pygments_lexer": "ipython3",
   "version": "3.8.3-final"
  }
 },
 "nbformat": 4,
 "nbformat_minor": 2
}