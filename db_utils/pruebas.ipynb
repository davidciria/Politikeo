{
 "metadata": {
  "language_info": {
   "codemirror_mode": {
    "name": "ipython",
    "version": 3
   },
   "file_extension": ".py",
   "mimetype": "text/x-python",
   "name": "python",
   "nbconvert_exporter": "python",
   "pygments_lexer": "ipython3",
   "version": "3.8.3-final"
  },
  "orig_nbformat": 2,
  "kernelspec": {
   "name": "python3",
   "display_name": "Python 3"
  }
 },
 "nbformat": 4,
 "nbformat_minor": 2,
 "cells": [
  {
   "cell_type": "code",
   "execution_count": 12,
   "metadata": {},
   "outputs": [
    {
     "output_type": "stream",
     "name": "stdout",
     "text": [
      "['pablito', 'cabron']\n"
     ]
    }
   ],
   "source": [
    "import re\n",
    "\n",
    "text = \"@pablito @pablito\"\n",
    "\n",
    "users_called = re.findall(r'(?<=^|(?<=[^a-zA-Z0-9-.]))@([A-Za-z]+[A-Za-z0-9-]+)', text)\n",
    "\n",
    "print(set(users_called))"
   ]
  },
  {
   "cell_type": "code",
   "execution_count": 33,
   "metadata": {},
   "outputs": [
    {
     "output_type": "stream",
     "name": "stdout",
     "text": [
      "2020-12-02 23:39:37.624017\n2020-12-02 23:12:04.044622\nFalse\n1:00:00\n"
     ]
    }
   ],
   "source": [
    "from datetime import datetime, timedelta\n",
    "\n",
    "now = datetime.now()\n",
    "\n",
    "print(str(now))\n",
    "previous = datetime.strptime(\"2020-12-02 23:12:04.044622\", '%Y-%m-%d %H:%M:%S.%f')\n",
    "print(datetime.strptime(\"2020-12-02 23:12:04.044622\", '%Y-%m-%d %H:%M:%S.%f'))\n",
    "\n",
    "print((now - previous) >= timedelta(hours=1))\n",
    "\n",
    "print(timedelta(hours=1))"
   ]
  },
  {
   "cell_type": "code",
   "execution_count": 32,
   "metadata": {},
   "outputs": [
    {
     "output_type": "execute_result",
     "data": {
      "text/plain": [
       "{'dacima99': '2020-12-02 23:19:16.726748',\n",
       " 'angelhd': '2020-12-02 23:12:04.044622'}"
      ]
     },
     "metadata": {},
     "execution_count": 32
    }
   ],
   "source": [
    "def load_log():\n",
    "    log_file = open('log.txt', 'r')\n",
    "    lines = log_file.readlines()\n",
    "    user_log_dict = {}\n",
    "    for line in lines:\n",
    "        user, time = line.strip().split(\",\")\n",
    "        user_log_dict[user] = time\n",
    "    return user_log_dict\n",
    "\n",
    "load_log()"
   ]
  },
  {
   "cell_type": "code",
   "execution_count": null,
   "metadata": {},
   "outputs": [],
   "source": []
  }
 ]
}