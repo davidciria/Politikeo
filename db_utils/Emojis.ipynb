{
 "cells": [
  {
   "cell_type": "markdown",
   "metadata": {},
   "source": [
    "# Extracció emojis"
   ]
  },
  {
   "cell_type": "code",
   "execution_count": 8,
   "metadata": {},
   "outputs": [
    {
     "name": "stderr",
     "output_type": "stream",
     "text": [
      "[nltk_data] Downloading package stopwords to\n",
      "[nltk_data]     C:\\Users\\iairm\\AppData\\Roaming\\nltk_data...\n",
      "[nltk_data]   Package stopwords is already up-to-date!\n"
     ]
    }
   ],
   "source": [
    "import tweepy\n",
    "import math\n",
    "from datetime import datetime, timedelta, timezone\n",
    "from tweepy import Stream\n",
    "from tweepy import OAuthHandler\n",
    "from tweepy.streaming import StreamListener\n",
    "import time\n",
    "import json\n",
    "import regex\n",
    "from sqlalchemy import create_engine\n",
    "import pandas as pd\n",
    "import numpy as np\n",
    "import emoji\n",
    "import re\n",
    "import nltk\n",
    "nltk.download('stopwords')\n",
    "from nltk.corpus import stopwords\n",
    "from textblob import TextBlob"
   ]
  },
  {
   "cell_type": "markdown",
   "metadata": {},
   "source": [
    "## Funcions per a treballar amb emojis"
   ]
  },
  {
   "cell_type": "code",
   "execution_count": null,
   "metadata": {},
   "outputs": [],
   "source": [
    "import emoji\n",
    "\n",
    "#Funcio per treure els emojis d'un text.\n",
    "def deEmojify(text):\n",
    "\n",
    "    string = \"\"\n",
    "    data = regex.findall(r'\\X', text)\n",
    "    for word in data:\n",
    "        for char in word:\n",
    "            if not char in emoji.UNICODE_EMOJI:\n",
    "                string = string + char\n",
    "\n",
    "    return string\n",
    "\n",
    "#Funcio per obtenir un text sense emojis.\n",
    "def Emojify(text):\n",
    "\n",
    "    emoji_list = []\n",
    "    data = regex.findall(r'\\X', text)\n",
    "    for word in data:\n",
    "        if any(char in emoji.UNICODE_EMOJI for char in word):\n",
    "            emoji_list.append(word)\n",
    "\n",
    "    return emoji_list\n",
    "\n",
    "#Funcion que retorna un diccionari amb el count de cada emoji.\n",
    "def countEmojis(text,mainDict):\n",
    "    lt = list(Emojify(text)) # Set deleted\n",
    "    if \"🇪🇦\" in lt:\n",
    "        lt.remove(\"🇪🇦\")\n",
    "        lt.append(\"🇪🇸\")\n",
    "    if \"❤\" in lt:\n",
    "        lt.remove(\"❤\")\n",
    "        lt.append(\"❤️\")\n",
    "    for emoji in lt:\n",
    "        if emoji in mainDict:\n",
    "            mainDict[emoji] += 1\n",
    "        else:\n",
    "            mainDict[emoji] = 1\n",
    "    return mainDict"
   ]
  },
  {
   "cell_type": "markdown",
   "metadata": {},
   "source": [
    "## Emojis count per a cada partit"
   ]
  },
  {
   "cell_type": "code",
   "execution_count": 13,
   "metadata": {},
   "outputs": [],
   "source": [
    "import emoji\n",
    "\n",
    "# Llegim els csv de cada partit politic.\n",
    "pp = pd.read_csv(\"pp.csv\")\n",
    "psoe = pd.read_csv(\"psoe.csv\")\n",
    "cs = pd.read_csv(\"cs.csv\")\n",
    "vox = pd.read_csv(\"vox.csv\")\n",
    "up = pd.read_csv(\"up.csv\")\n",
    "\n",
    "finaldu = [] # Llista amb les ocurrencies d'emojis per a cada partit.\n",
    "\n",
    "userDict = {} # Diccionari on guardarem les ocurrencies de cada emoji de tots els usuaris del partit actual.\n",
    "#Vox Users\n",
    "voxUsers = vox[[\"user_name\",\"user_screen_name\",\"user_description\",\"user_id\"]].groupby(by=[\"user_id\"],axis=0).first()\n",
    "\n",
    "for i, user in voxUsers.iterrows(): \n",
    "    userDict = countEmojis(user[\"user_name\"],userDict)\n",
    "    if not pd.isna(user[\"user_description\"]):\n",
    "        userDict = countEmojis(user[\"user_description\"],userDict)\n",
    "      \n",
    "\n",
    "    \n",
    "duVox = {k: v for k, v in sorted(userDict.items(), reverse=True, key=lambda item: item[1])}\n",
    "duVox = list(duVox.items())\n",
    "finaldu.append(duVox)\n",
    "\n",
    "userDict = {} # Diccionari on guardarem les ocurrencies de cada emoji de tots els usuaris del partit actual.\n",
    "#Pp Users\n",
    "ppUsers = pp[[\"user_name\",\"user_screen_name\",\"user_description\",\"user_id\"]].groupby(by=[\"user_id\"],axis=0).first()\n",
    "\n",
    "for i, user in ppUsers.iterrows(): \n",
    "    userDict = countEmojis(user[\"user_name\"],userDict)\n",
    "    if not pd.isna(user[\"user_description\"]):\n",
    "        userDict = countEmojis(user[\"user_description\"],userDict)\n",
    "duPP = {k: v for k, v in sorted(userDict.items(), reverse=True, key=lambda item: item[1])}\n",
    "duPP = list(duPP.items())\n",
    "finaldu.append(duPP)\n",
    "\n",
    "userDict = {} # Diccionari on guardarem les ocurrencies de cada emoji de tots els usuaris del partit actual.\n",
    "#Ciu Users\n",
    "csUsers = cs[[\"user_name\",\"user_screen_name\",\"user_description\",\"user_id\"]].groupby(by=[\"user_id\"],axis=0).first()\n",
    "\n",
    "for i, user in csUsers.iterrows(): \n",
    "    userDict = countEmojis(user[\"user_name\"],userDict)\n",
    "    if not pd.isna(user[\"user_description\"]):\n",
    "        userDict = countEmojis(user[\"user_description\"],userDict)\n",
    "        \n",
    "duCs = {k: v for k, v in sorted(userDict.items(), reverse=True, key=lambda item: item[1])}\n",
    "duCs = list(duCs.items())\n",
    "finaldu.append(duCs)\n",
    "\n",
    "userDict = {} # Diccionari on guardarem les ocurrencies de cada emoji de tots els usuaris del partit actual.\n",
    "#Psoe Users\n",
    "psoeUsers = psoe[[\"user_name\",\"user_screen_name\",\"user_description\",\"user_id\"]].groupby(by=[\"user_id\"],axis=0).first()\n",
    "\n",
    "for i, user in psoeUsers.iterrows(): \n",
    "    userDict = countEmojis(user[\"user_name\"],userDict)\n",
    "    if not pd.isna(user[\"user_description\"]):\n",
    "        userDict = countEmojis(user[\"user_description\"],userDict)\n",
    "        \n",
    "duPsoe = {k: v for k, v in sorted(userDict.items(), reverse=True, key=lambda item: item[1])}\n",
    "duPsoe = list(duPsoe.items())\n",
    "finaldu.append(duPsoe)\n",
    "\n",
    "userDict = {} \n",
    "#Podemos Users\n",
    "upUsers = up[[\"user_name\",\"user_screen_name\",\"user_description\",\"user_id\"]].groupby(by=[\"user_id\"],axis=0).first()\n",
    "\n",
    "for i, user in upUsers.iterrows(): \n",
    "    userDict = countEmojis(user[\"user_name\"],userDict)\n",
    "    if not pd.isna(user[\"user_description\"]):\n",
    "        userDict = countEmojis(user[\"user_description\"],userDict)\n",
    "        \n",
    "duUP = {k: v for k, v in sorted(userDict.items(), reverse=True, key=lambda item: item[1])}\n",
    "duUP = list(duUP.items())\n",
    "finaldu.append(duUP)"
   ]
  },
  {
   "cell_type": "code",
   "execution_count": 14,
   "metadata": {
    "scrolled": true
   },
   "outputs": [
    {
     "name": "stdout",
     "output_type": "stream",
     "text": [
      "[[('🇪🇸', 64), ('💚', 23), ('🖤', 10)], [('🇪🇸', 23), ('💙', 16), ('🅿️', 8)], [('🍊', 44), ('🇪🇸', 43), ('🇪🇺', 22), ('🖤', 15), ('🧡', 11), ('🏳️\\u200d🌈', 7), ('❤️', 4)], [('🌹', 52), ('❤️', 34), ('✊', 6), ('🇪🇸', 6), ('🇪🇺', 4), ('🔻', 4), ('💜', 4)], [('💜', 59), ('🔻', 25), ('✊', 16), ('❤️', 14), ('💛', 14)]]\n"
     ]
    }
   ],
   "source": [
    "endList = []\n",
    "transactions = []\n",
    "for dt in finaldu:\n",
    "    List = []\n",
    "    transaction = []\n",
    "    for i,value in dt:\n",
    "        if value >= 4:\n",
    "            List.append((i,value))\n",
    "            transaction.append(i)\n",
    "    endList.append(List)\n",
    "    transactions.append(transaction)\n",
    "\n",
    "print(endList) #Llista amb els emojis y ocurrencies per a cada partit.\n",
    "\n",
    "\n",
    "flatTrans = []\n",
    "for sublist in transactions:\n",
    "    for item in sublist:\n",
    "        flatTrans.append(item)\n",
    "\n",
    "#Conjunt dels emojis diferents que apareixen (tenint en compte tots els partits politics). Util per quan calculem el tfidf.\n",
    "diffEmojis = set(flatTrans)"
   ]
  },
  {
   "cell_type": "markdown",
   "metadata": {},
   "source": [
    "## Proves per a calcular score d'un tweet"
   ]
  },
  {
   "cell_type": "code",
   "execution_count": 16,
   "metadata": {},
   "outputs": [
    {
     "name": "stdout",
     "output_type": "stream",
     "text": [
      "{'🧡': 1, '🍊': 1, '💙': 1, '💛': 1, '🔻': 2, '🇪🇸': 4, '💜': 2, '✊': 2, '💚': 1, '🇪🇺': 2, '🅿️': 1, '🏳️\\u200d🌈': 1, '🌹': 1, '🖤': 2, '❤️': 3}\n",
      "{0: 0.14722873488772603, 1: 0.10919790808993243, 2: 0.06572036100350014, 3: 0.04549112941256254, 4: 0.5983850308957231}\n"
     ]
    },
    {
     "data": {
      "text/plain": [
       "array([0.15240704, 0.1130386 , 0.06803187, 0.04709114, 0.61943135])"
      ]
     },
     "execution_count": 16,
     "metadata": {},
     "output_type": "execute_result"
    }
   ],
   "source": [
    "\"\"\"\n",
    "#Utilitzarem el tfidf.\n",
    "parties = [\"VOX\", \"PP\", \"CS\", \"PSOE\", \"UP\"]\n",
    "\n",
    "DannyTw = \"Danny 🇪🇸💜🇪💛🇸🇪🇸\"\n",
    "\n",
    "emojiIdf = {}\n",
    "for emoji in diffEmojis:\n",
    "    emojiIdf[emoji] = 0\n",
    "    for index, party in enumerate(endList):\n",
    "        for partyEemoji, num in party:\n",
    "            if partyEemoji == emoji:\n",
    "                emojiIdf[emoji] += 1\n",
    "                \n",
    "print(emojiIdf)\n",
    "\n",
    "import emoji\n",
    "DannyDict = countEmojis(DannyTw, {})\n",
    "DannyList = list(DannyDict.items())\n",
    "DannyList\n",
    "\n",
    "voxEmojisNum = np.sum([value for i, value in endList[0]])\n",
    "ppEmojisNum = np.sum([value for i, value in endList[1]])\n",
    "csEmojisNum = np.sum([value for i, value in endList[2]])\n",
    "psoeEmojisNum = np.sum([value for i, value in endList[3]])\n",
    "upEmojisNum = np.sum([value for i, value in endList[4]])\n",
    "EmojisPartiesSum = [voxEmojisNum, ppEmojisNum, csEmojisNum, psoeEmojisNum, upEmojisNum]\n",
    "\n",
    "scores = {}\n",
    "for index, party in enumerate(endList):\n",
    "    scores[index] = 0\n",
    "    \n",
    "for i, value in DannyList:\n",
    "    for index, party in enumerate(endList):\n",
    "        for emoji, num in party:\n",
    "            if i == emoji:\n",
    "                scores[index] += value * np.log(len(endList)/emojiIdf[emoji]) * num/EmojisPartiesSum[index]\n",
    "\n",
    "print(scores)\n",
    "list(scores.values())/np.sum(list(scores.values()))\n",
    "\"\"\""
   ]
  }
 ],
 "metadata": {
  "kernelspec": {
   "display_name": "Python 3",
   "language": "python",
   "name": "python3"
  },
  "language_info": {
   "codemirror_mode": {
    "name": "ipython",
    "version": 3
   },
   "file_extension": ".py",
   "mimetype": "text/x-python",
   "name": "python",
   "nbconvert_exporter": "python",
   "pygments_lexer": "ipython3",
   "version": "3.8.3"
  }
 },
 "nbformat": 4,
 "nbformat_minor": 2
}
