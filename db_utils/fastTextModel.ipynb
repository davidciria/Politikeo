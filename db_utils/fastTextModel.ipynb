{
 "cells": [
  {
   "cell_type": "code",
   "execution_count": 85,
   "metadata": {},
   "outputs": [
    {
     "output_type": "execute_result",
     "data": {
      "text/plain": [
       "'\\nThe training file should be this format:\\n\\n__label__pp this is my text\\n__label__psoe this is also my text\\n'"
      ]
     },
     "metadata": {},
     "execution_count": 85
    }
   ],
   "source": [
    "import fasttext\n",
    "\n",
    "\"\"\"\n",
    "The training file should be this format:\n",
    "\n",
    "__label__pp this is my text\n",
    "__label__psoe this is also my text\n",
    "\"\"\""
   ]
  },
  {
   "cell_type": "code",
   "execution_count": 116,
   "metadata": {},
   "outputs": [
    {
     "output_type": "stream",
     "name": "stdout",
     "text": [
      "4979\n",
      "4991\n",
      "5996\n",
      "4955\n",
      "4967\n"
     ]
    }
   ],
   "source": [
    "import pandas as pd\n",
    "import numpy as np\n",
    "import re\n",
    "import emoji\n",
    "\n",
    "#Function to get all emojis in a text.\n",
    "def split_emojis(text):\n",
    "\n",
    "    emoji_list = []\n",
    "    data = re.findall(r'\\X', text)\n",
    "    for word in data:\n",
    "        if any(char in emoji.UNICODE_EMOJI for char in word):\n",
    "            emoji_list.append(word)\n",
    "\n",
    "    return emoji_list\n",
    "\n",
    "#Function to clean the text of a tweet.\n",
    "def clean_tweet(text):\n",
    "    clean_text = re.sub(\"@.*:\", \"\", text) #This do not improve performance.\n",
    "    clean_text = re.sub(\"@.* \", \"\", clean_text)\n",
    "    clean_text = re.sub(\"RT\", \"\", clean_text)\n",
    "    clean_text = re.sub(\"\\n\", \" \", clean_text)\n",
    "    #Separate emojis from words.\n",
    "    \"\"\"\n",
    "    sep_emojis_text = \"\"\n",
    "    for c in clean_text:\n",
    "        if c in emoji.UNICODE_EMOJI:\n",
    "            sep_emojis_text+=' '+c+' '\n",
    "        else:\n",
    "            sep_emojis_text+=c\n",
    "     #This do not improve performance.\n",
    "    \"\"\"\n",
    "    return clean_text\n",
    "\n",
    "#Read and clean data for each party.\n",
    "\n",
    "#Podemos.\n",
    "up_cleaned_data = pd.DataFrame()\n",
    "up_df = pd.read_csv ('up.csv')\n",
    "up_cleaned_data[\"tweet\"] = up_df[\"text\"].apply(clean_tweet)\n",
    "up_cleaned_data[\"label\"] = \"__label__up\"\n",
    "print(len(up_df))\n",
    "#Psoe.\n",
    "psoe_cleaned_data = pd.DataFrame()\n",
    "psoe_df = pd.read_csv ('psoe.csv')\n",
    "psoe_cleaned_data[\"tweet\"] = psoe_df[\"text\"].apply(clean_tweet)\n",
    "psoe_cleaned_data[\"label\"] = \"__label__psoe\"\n",
    "print(len(psoe_df))\n",
    "#CS.\n",
    "cs_cleaned_data = pd.DataFrame()\n",
    "cs_df = pd.read_csv ('cs.csv')\n",
    "cs_cleaned_data[\"tweet\"] = cs_df[\"text\"].apply(clean_tweet)\n",
    "cs_cleaned_data[\"label\"] = \"__label__cs\"\n",
    "print(len(cs_df))\n",
    "#PP.\n",
    "pp_cleaned_data = pd.DataFrame()\n",
    "pp_df = pd.read_csv ('pp.csv')\n",
    "pp_cleaned_data[\"tweet\"] = pp_df[\"text\"].apply(clean_tweet)\n",
    "pp_cleaned_data[\"label\"] = \"__label__pp\"\n",
    "print(len(pp_df))\n",
    "#Vox.\n",
    "vox_cleaned_data = pd.DataFrame()\n",
    "vox_df = pd.read_csv ('vox.csv')\n",
    "vox_cleaned_data[\"tweet\"] = vox_df[\"text\"].apply(clean_tweet)\n",
    "vox_cleaned_data[\"label\"] = \"__label__vox\"\n",
    "print(len(vox_df))\n",
    "\n",
    "#Concat all parties data.\n",
    "data = pd.concat([up_cleaned_data, psoe_cleaned_data, cs_cleaned_data, pp_cleaned_data, vox_cleaned_data])"
   ]
  },
  {
   "cell_type": "code",
   "execution_count": 117,
   "metadata": {},
   "outputs": [
    {
     "output_type": "display_data",
     "data": {
      "text/plain": "                                                  tweet          label\n4592                              ⚒💚⚒ #LevantandoEspaña   __label__vox\n4908    ❌ ¡La homosexualidad nunca ha sido una enfer...    __label__cs\n5514    ☀️ ¡Buenos días y #FelizMartes! 📻 Empieza la...    __label__cs\n2807                                  //t.co/O3gMgMHob5  __label__psoe\n2271                                                VA.   __label__vox\n...                                                 ...            ...\n654                                   //t.co/f9A4j7YuSR   __label__vox\n411     Este año celebramos el #12deOctubre reafirma...  __label__psoe\n860     Esta mañana ha llegado el primer SÍ a los Pr...    __label__up\n5825               🔵 Unos prefieren ver si solos sacan…    __label__cs\n2733                                        desaparece.   __label__vox\n\n[22004 rows x 2 columns]",
      "text/html": "<div>\n<style scoped>\n    .dataframe tbody tr th:only-of-type {\n        vertical-align: middle;\n    }\n\n    .dataframe tbody tr th {\n        vertical-align: top;\n    }\n\n    .dataframe thead th {\n        text-align: right;\n    }\n</style>\n<table border=\"1\" class=\"dataframe\">\n  <thead>\n    <tr style=\"text-align: right;\">\n      <th></th>\n      <th>tweet</th>\n      <th>label</th>\n    </tr>\n  </thead>\n  <tbody>\n    <tr>\n      <th>4592</th>\n      <td>⚒💚⚒ #LevantandoEspaña</td>\n      <td>__label__vox</td>\n    </tr>\n    <tr>\n      <th>4908</th>\n      <td>❌ ¡La homosexualidad nunca ha sido una enfer...</td>\n      <td>__label__cs</td>\n    </tr>\n    <tr>\n      <th>5514</th>\n      <td>☀️ ¡Buenos días y #FelizMartes! 📻 Empieza la...</td>\n      <td>__label__cs</td>\n    </tr>\n    <tr>\n      <th>2807</th>\n      <td>//t.co/O3gMgMHob5</td>\n      <td>__label__psoe</td>\n    </tr>\n    <tr>\n      <th>2271</th>\n      <td>VA.</td>\n      <td>__label__vox</td>\n    </tr>\n    <tr>\n      <th>...</th>\n      <td>...</td>\n      <td>...</td>\n    </tr>\n    <tr>\n      <th>654</th>\n      <td>//t.co/f9A4j7YuSR</td>\n      <td>__label__vox</td>\n    </tr>\n    <tr>\n      <th>411</th>\n      <td>Este año celebramos el #12deOctubre reafirma...</td>\n      <td>__label__psoe</td>\n    </tr>\n    <tr>\n      <th>860</th>\n      <td>Esta mañana ha llegado el primer SÍ a los Pr...</td>\n      <td>__label__up</td>\n    </tr>\n    <tr>\n      <th>5825</th>\n      <td>🔵 Unos prefieren ver si solos sacan…</td>\n      <td>__label__cs</td>\n    </tr>\n    <tr>\n      <th>2733</th>\n      <td>desaparece.</td>\n      <td>__label__vox</td>\n    </tr>\n  </tbody>\n</table>\n<p>22004 rows × 2 columns</p>\n</div>"
     },
     "metadata": {}
    },
    {
     "output_type": "display_data",
     "data": {
      "text/plain": "                                                  tweet          label\n1783  A punto de empezar el encuentro telemático con...    __label__cs\n51      ☝️Ni una semana ha tardado la vicelehendakar...    __label__cs\n1746    🗞️  \"Son unos PGE necesarios, progresistas, ...  __label__psoe\n2203                                           entiendo    __label__pp\n3027                                                  🤗    __label__up\n...                                                 ...            ...\n853     Al Gore tardó 30 días en reconocer su derrot...   __label__vox\n4130  💜 Ideas. 💜 Principios. 💜 Políticas.  💜 𝐅𝐄𝐌𝐈𝐍𝐈𝐒...  __label__psoe\n378        Día de la Hispanidad https://t.co/Vd6lmFmZOB   __label__vox\n3589                                  //t.co/TOJktMsX34    __label__up\n3663    PRINCIPIOS   Vox incluyó en sus programas el...  __label__psoe\n\n[3884 rows x 2 columns]",
      "text/html": "<div>\n<style scoped>\n    .dataframe tbody tr th:only-of-type {\n        vertical-align: middle;\n    }\n\n    .dataframe tbody tr th {\n        vertical-align: top;\n    }\n\n    .dataframe thead th {\n        text-align: right;\n    }\n</style>\n<table border=\"1\" class=\"dataframe\">\n  <thead>\n    <tr style=\"text-align: right;\">\n      <th></th>\n      <th>tweet</th>\n      <th>label</th>\n    </tr>\n  </thead>\n  <tbody>\n    <tr>\n      <th>1783</th>\n      <td>A punto de empezar el encuentro telemático con...</td>\n      <td>__label__cs</td>\n    </tr>\n    <tr>\n      <th>51</th>\n      <td>☝️Ni una semana ha tardado la vicelehendakar...</td>\n      <td>__label__cs</td>\n    </tr>\n    <tr>\n      <th>1746</th>\n      <td>🗞️  \"Son unos PGE necesarios, progresistas, ...</td>\n      <td>__label__psoe</td>\n    </tr>\n    <tr>\n      <th>2203</th>\n      <td>entiendo</td>\n      <td>__label__pp</td>\n    </tr>\n    <tr>\n      <th>3027</th>\n      <td>🤗</td>\n      <td>__label__up</td>\n    </tr>\n    <tr>\n      <th>...</th>\n      <td>...</td>\n      <td>...</td>\n    </tr>\n    <tr>\n      <th>853</th>\n      <td>Al Gore tardó 30 días en reconocer su derrot...</td>\n      <td>__label__vox</td>\n    </tr>\n    <tr>\n      <th>4130</th>\n      <td>💜 Ideas. 💜 Principios. 💜 Políticas.  💜 𝐅𝐄𝐌𝐈𝐍𝐈𝐒...</td>\n      <td>__label__psoe</td>\n    </tr>\n    <tr>\n      <th>378</th>\n      <td>Día de la Hispanidad https://t.co/Vd6lmFmZOB</td>\n      <td>__label__vox</td>\n    </tr>\n    <tr>\n      <th>3589</th>\n      <td>//t.co/TOJktMsX34</td>\n      <td>__label__up</td>\n    </tr>\n    <tr>\n      <th>3663</th>\n      <td>PRINCIPIOS   Vox incluyó en sus programas el...</td>\n      <td>__label__psoe</td>\n    </tr>\n  </tbody>\n</table>\n<p>3884 rows × 2 columns</p>\n</div>"
     },
     "metadata": {}
    }
   ],
   "source": [
    "#Split data in training and test sets.\n",
    "import csv\n",
    "from sklearn.model_selection import train_test_split\n",
    "\n",
    "X_train, X_test, y_train, y_test = train_test_split(data[\"tweet\"], data[\"label\"], test_size=0.15, random_state=42)\n",
    "\n",
    "training = pd.concat([X_train,y_train], axis=1)\n",
    "display(training)\n",
    "\n",
    "test = pd.concat([X_test,y_test], axis=1)\n",
    "display(test)\n",
    "\n",
    "#Create training file.\n",
    "training[training.columns.values[::-1]].to_csv('data.train', index=False, sep=' ', header=False, quoting=csv.QUOTE_NONE, quotechar=\"\", escapechar=\" \")\n",
    "#data.to_csv('data.train', index=False, sep=' ', header=False, quoting=csv.QUOTE_NONE, quotechar=\"\", escapechar=\" \")\n",
    "\n",
    "#Create test file.\n",
    "test[test.columns.values[::-1]].to_csv('data.test', index=False, sep=' ', header=False, quoting=csv.QUOTE_NONE, quotechar=\"\", escapechar=\" \")"
   ]
  },
  {
   "cell_type": "code",
   "execution_count": 118,
   "metadata": {},
   "outputs": [],
   "source": [
    "import fasttext\n",
    "# Load input training set.\n",
    "\n",
    "#By default, fastText sees each training example only five times during training, which is pretty small. The number of times each examples is seen (also known as the number of epochs), can be increased using the -epoch option\n",
    "model = fasttext.train_supervised(input=\"data.train\", epoch=25)"
   ]
  },
  {
   "cell_type": "code",
   "execution_count": 119,
   "metadata": {},
   "outputs": [
    {
     "output_type": "stream",
     "name": "stdout",
     "text": [
      "(('__label__vox',), array([0.94536889]))\n(('__label__pp',), array([0.98429704]))\n(('__label__vox',), array([0.99206376]))\n(('__label__cs',), array([0.96874827]))\n(('__label__up',), array([0.65534759]))\n(('__label__up',), array([0.98422652]))\n(('__label__vox',), array([1.00000691]))\n(('__label__cs',), array([0.95531917]))\n(('__label__up',), array([0.90752602]))\n(('__label__cs',), array([0.84613037]))\n(('__label__cs',), array([0.85025179]))\n(('__label__cs',), array([0.80714887]))\n"
     ]
    }
   ],
   "source": [
    "#To predict one instance.\n",
    "print( model.predict(\"Franco deberia volver a vivir\") )\n",
    "print( model.predict(\"Los españoles son los mejores 💙\") )\n",
    "print( model.predict(\"Los españoles son los mejores 💚\") )\n",
    "print( model.predict(\"España es una gran nacion\") )\n",
    "print( model.predict(\"Pablo Iglesias es el mejor\") )\n",
    "print( model.predict(\"Pablo Iglesias es un mierdas\") )\n",
    "print( model.predict(\"Putos progres de mierda\") )\n",
    "print( model.predict(\"Viva la guardia civil\") )\n",
    "print( model.predict(\"Igualdad salarial para las mujeres!\") )\n",
    "print( model.predict(\"La españa moderada\") )\n",
    "print( model.predict(\"La mujer a trabajar\") )\n",
    "print( model.predict(\"Viva la fuerza naranja\") )"
   ]
  },
  {
   "cell_type": "code",
   "execution_count": 120,
   "metadata": {},
   "outputs": [
    {
     "output_type": "stream",
     "name": "stdout",
     "text": [
      "Precision: 0.49922760041194647\nRecall: 0.49922760041194647\nFscore: 0.49922760041194647\n"
     ]
    }
   ],
   "source": [
    "#To test the test set. (number of samples, precision, recall)\n",
    "model.test(\"data.test\")\n",
    "\n",
    "precision = model.test(\"data.test\")[1]\n",
    "recall = model.test(\"data.test\")[2]\n",
    "\n",
    "F_score = 2*(precision * recall)/(precision + recall)\n",
    "\n",
    "print(\"Precision:\", precision)\n",
    "print(\"Recall:\", recall)\n",
    "print(\"Fscore:\", F_score)"
   ]
  },
  {
   "cell_type": "code",
   "execution_count": 121,
   "metadata": {},
   "outputs": [],
   "source": [
    "model.save_model(\"fastTextModel.model\")"
   ]
  }
 ],
 "metadata": {
  "kernelspec": {
   "display_name": "Python 3",
   "language": "python",
   "name": "python3"
  },
  "language_info": {
   "codemirror_mode": {
    "name": "ipython",
    "version": 3
   },
   "file_extension": ".py",
   "mimetype": "text/x-python",
   "name": "python",
   "nbconvert_exporter": "python",
   "pygments_lexer": "ipython3",
   "version": "3.8.3-final"
  }
 },
 "nbformat": 4,
 "nbformat_minor": 2
}